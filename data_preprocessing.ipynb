{
 "cells": [
  {
   "cell_type": "code",
   "execution_count": 228,
   "id": "initial_id",
   "metadata": {
    "collapsed": true,
    "ExecuteTime": {
     "end_time": "2025-01-25T09:32:36.624894900Z",
     "start_time": "2025-01-25T09:32:36.512107100Z"
    }
   },
   "outputs": [],
   "source": [
    "import pandas as pd \n",
    "import numpy as np \n",
    "import matplotlib.pyplot as plt \n",
    "import seaborn as sns "
   ]
  },
  {
   "cell_type": "code",
   "outputs": [
    {
     "data": {
      "text/plain": "Index(['header_details', 'address', 'latitude', 'longitude', 'user_name',\n       'user_url', 'tel_number', 'price_dollars', 'Тип предложения', 'Серия',\n       'Дом', 'Этаж', 'Площадь', 'Отопление', 'Состояние', 'Санузел', 'Газ',\n       'Входная дверь', 'Парковка', 'Высота потолков', 'Разное',\n       'Правоустанавливающие документы', 'views', 'hearts', 'publicated',\n       'upped', 'pictures', 'Телефон', 'Интернет', 'Балкон', 'Мебель', 'Пол',\n       'Безопасность', 'Возможность обмена', 'Возможность рассрочки',\n       'Возможность ипотеки', 'num_of_comments', 'Площадь участка',\n       'Канализация', 'Питьевая вода', 'Электричество'],\n      dtype='object')"
     },
     "execution_count": 229,
     "metadata": {},
     "output_type": "execute_result"
    }
   ],
   "source": [
    "df = pd.read_csv('data/train_.csv')\n",
    "df.columns"
   ],
   "metadata": {
    "collapsed": false,
    "ExecuteTime": {
     "end_time": "2025-01-25T09:32:36.974628700Z",
     "start_time": "2025-01-25T09:32:36.630087400Z"
    }
   },
   "id": "4b9a015dd71ff349",
   "execution_count": 229
  },
  {
   "cell_type": "code",
   "outputs": [
    {
     "name": "stdout",
     "output_type": "stream",
     "text": [
      "<class 'pandas.core.frame.DataFrame'>\n",
      "RangeIndex: 3367 entries, 0 to 3366\n",
      "Data columns (total 41 columns):\n",
      " #   Column                          Non-Null Count  Dtype  \n",
      "---  ------                          --------------  -----  \n",
      " 0   header_details                  3364 non-null   object \n",
      " 1   address                         3367 non-null   object \n",
      " 2   latitude                        3364 non-null   float64\n",
      " 3   longitude                       3364 non-null   float64\n",
      " 4   user_name                       3367 non-null   object \n",
      " 5   user_url                        3367 non-null   object \n",
      " 6   tel_number                      3364 non-null   object \n",
      " 7   price_dollars                   3367 non-null   float64\n",
      " 8   Тип предложения                 3364 non-null   object \n",
      " 9   Серия                           3364 non-null   object \n",
      " 10  Дом                             3364 non-null   object \n",
      " 11  Этаж                            3361 non-null   object \n",
      " 12  Площадь                         3364 non-null   object \n",
      " 13  Отопление                       2807 non-null   object \n",
      " 14  Состояние                       3081 non-null   object \n",
      " 15  Санузел                         1765 non-null   object \n",
      " 16  Газ                             1531 non-null   object \n",
      " 17  Входная дверь                   1568 non-null   object \n",
      " 18  Парковка                        1152 non-null   object \n",
      " 19  Высота потолков                 2157 non-null   object \n",
      " 20  Разное                          1225 non-null   object \n",
      " 21  Правоустанавливающие документы  1916 non-null   object \n",
      " 22  views                           3364 non-null   float64\n",
      " 23  hearts                          2339 non-null   float64\n",
      " 24  publicated                      3364 non-null   object \n",
      " 25  upped                           2871 non-null   object \n",
      " 26  pictures                        3364 non-null   object \n",
      " 27  Телефон                         1091 non-null   object \n",
      " 28  Интернет                        1133 non-null   object \n",
      " 29  Балкон                          1504 non-null   object \n",
      " 30  Мебель                          1511 non-null   object \n",
      " 31  Пол                             1060 non-null   object \n",
      " 32  Безопасность                    1288 non-null   object \n",
      " 33  Возможность обмена              881 non-null    object \n",
      " 34  Возможность рассрочки           700 non-null    object \n",
      " 35  Возможность ипотеки             1035 non-null   object \n",
      " 36  num_of_comments                 36 non-null     float64\n",
      " 37  Площадь участка                 3 non-null      object \n",
      " 38  Канализация                     1 non-null      object \n",
      " 39  Питьевая вода                   1 non-null      object \n",
      " 40  Электричество                   1 non-null      object \n",
      "dtypes: float64(6), object(35)\n",
      "memory usage: 1.1+ MB\n"
     ]
    }
   ],
   "source": [
    "df.info()"
   ],
   "metadata": {
    "collapsed": false,
    "ExecuteTime": {
     "end_time": "2025-01-25T09:32:37.066383600Z",
     "start_time": "2025-01-25T09:32:36.931667600Z"
    }
   },
   "id": "779a7a6c683ab89",
   "execution_count": 230
  },
  {
   "cell_type": "code",
   "outputs": [
    {
     "data": {
      "text/plain": "(3367, 41)"
     },
     "execution_count": 231,
     "metadata": {},
     "output_type": "execute_result"
    }
   ],
   "source": [
    "df.shape"
   ],
   "metadata": {
    "collapsed": false,
    "ExecuteTime": {
     "end_time": "2025-01-25T09:32:37.170438700Z",
     "start_time": "2025-01-25T09:32:37.033765500Z"
    }
   },
   "id": "2bb8c521993804b5",
   "execution_count": 231
  },
  {
   "cell_type": "code",
   "outputs": [
    {
     "data": {
      "text/plain": "(3367, 30)"
     },
     "execution_count": 232,
     "metadata": {},
     "output_type": "execute_result"
    }
   ],
   "source": [
    "df.drop(columns=['Канализация', 'Питьевая вода', 'Электричество'], inplace=True)\n",
    "df.drop(columns=['views', 'hearts', 'user_name', 'user_url', 'tel_number', 'views', 'hearts', 'publicated', 'pictures', 'num_of_comments'], inplace=True)\n",
    "\n",
    "df.shape"
   ],
   "metadata": {
    "collapsed": false,
    "ExecuteTime": {
     "end_time": "2025-01-25T09:32:37.261907500Z",
     "start_time": "2025-01-25T09:32:37.142462Z"
    }
   },
   "id": "3a0d126064069969",
   "execution_count": 232
  },
  {
   "cell_type": "code",
   "outputs": [],
   "source": [
    "df.dropna(subset=['header_details'], inplace=True)\n",
    "df['Комнаты'] = df['header_details'].str.extract(r'(\\d)-комн\\. кв\\.')\n",
    "df['Комнаты'].fillna(6, inplace=True)\n",
    "df['Комнаты'] = df['Комнаты'].astype(int)\n",
    "df.drop(columns=['header_details'], inplace=True)"
   ],
   "metadata": {
    "collapsed": false,
    "ExecuteTime": {
     "end_time": "2025-01-25T09:32:37.428248900Z",
     "start_time": "2025-01-25T09:32:37.268200900Z"
    }
   },
   "id": "3f1d1d759e86d17c",
   "execution_count": 233
  },
  {
   "cell_type": "code",
   "outputs": [
    {
     "data": {
      "text/plain": "latitude         float64\nlongitude        float64\nprice_dollars    float64\nКомнаты            int32\ndtype: object"
     },
     "execution_count": 234,
     "metadata": {},
     "output_type": "execute_result"
    }
   ],
   "source": [
    "df.dtypes[df.dtypes != 'object']"
   ],
   "metadata": {
    "collapsed": false,
    "ExecuteTime": {
     "end_time": "2025-01-25T09:32:37.526529700Z",
     "start_time": "2025-01-25T09:32:37.387598Z"
    }
   },
   "id": "c008699b933e3406",
   "execution_count": 234
  },
  {
   "cell_type": "code",
   "outputs": [
    {
     "data": {
      "text/plain": "0"
     },
     "execution_count": 235,
     "metadata": {},
     "output_type": "execute_result"
    }
   ],
   "source": [
    "df['latitude'].isna().sum()"
   ],
   "metadata": {
    "collapsed": false,
    "ExecuteTime": {
     "end_time": "2025-01-25T09:32:37.588357900Z",
     "start_time": "2025-01-25T09:32:37.529624800Z"
    }
   },
   "id": "16794b0fa9b1e190",
   "execution_count": 235
  },
  {
   "cell_type": "code",
   "outputs": [
    {
     "data": {
      "text/plain": "0.02696745808678022"
     },
     "execution_count": 236,
     "metadata": {},
     "output_type": "execute_result"
    }
   ],
   "source": [
    "df['latitude'].corr(df['price_dollars'])"
   ],
   "metadata": {
    "collapsed": false,
    "ExecuteTime": {
     "end_time": "2025-01-25T09:32:37.589449400Z",
     "start_time": "2025-01-25T09:32:37.540246900Z"
    }
   },
   "id": "557c4bafa5de9aac",
   "execution_count": 236
  },
  {
   "cell_type": "code",
   "outputs": [],
   "source": [
    "df.drop(columns=['latitude'], inplace=True)"
   ],
   "metadata": {
    "collapsed": false,
    "ExecuteTime": {
     "end_time": "2025-01-25T09:32:37.707900Z",
     "start_time": "2025-01-25T09:32:37.595016100Z"
    }
   },
   "id": "f5a460f64b9ab00",
   "execution_count": 237
  },
  {
   "cell_type": "code",
   "outputs": [
    {
     "data": {
      "text/plain": "0"
     },
     "execution_count": 238,
     "metadata": {},
     "output_type": "execute_result"
    }
   ],
   "source": [
    "df['longitude'].isna().sum()"
   ],
   "metadata": {
    "collapsed": false,
    "ExecuteTime": {
     "end_time": "2025-01-25T09:32:37.779042Z",
     "start_time": "2025-01-25T09:32:37.661416900Z"
    }
   },
   "id": "75fd419ad73b6dd5",
   "execution_count": 238
  },
  {
   "cell_type": "code",
   "outputs": [
    {
     "data": {
      "text/plain": "-0.02676647269888787"
     },
     "execution_count": 239,
     "metadata": {},
     "output_type": "execute_result"
    }
   ],
   "source": [
    "df['longitude'].corr(df['price_dollars'])"
   ],
   "metadata": {
    "collapsed": false,
    "ExecuteTime": {
     "end_time": "2025-01-25T09:32:37.891522300Z",
     "start_time": "2025-01-25T09:32:37.784494900Z"
    }
   },
   "id": "de48dc8dcdec67f8",
   "execution_count": 239
  },
  {
   "cell_type": "code",
   "outputs": [],
   "source": [
    "df.drop(columns=['longitude'], inplace=True)"
   ],
   "metadata": {
    "collapsed": false,
    "ExecuteTime": {
     "end_time": "2025-01-25T09:32:37.959416Z",
     "start_time": "2025-01-25T09:32:37.861793400Z"
    }
   },
   "id": "8bd20596a8195148",
   "execution_count": 240
  },
  {
   "cell_type": "code",
   "outputs": [
    {
     "data": {
      "text/plain": "                                                address  price_dollars  \\\n0     Бишкек, Магистраль, Байтик Баатыра/Южная магис...        67000.0   \n1           Бишкек, Политех, Чынгыз Айтматова/Ахунбаева        54000.0   \n2                                   Бишкек, Джал-29 м-н       122000.0   \n3       Бишкек, Магистраль, Куттубаева/Южная Магистраль        92000.0   \n4            Бишкек, Средний Джал м-н, мкр Джал-23 18/2        69000.0   \n...                                                 ...            ...   \n3362              с. Кара-Ой, ул.Рыскулова / Коенкозова        36000.0   \n3363           Бишкек, 7 м-н, 7-й микрорайон, 50а стр 1       223000.0   \n3364                                            с. Алга        43000.0   \n3365  Бишкек, Горького - Алма-Атинская, Горького-7-а...        39000.0   \n3366  Бишкек, Центральная мечеть, Чокморова/Московск...        74500.0   \n\n      Тип предложения                Серия                  Дом  \\\n0           от агента               элитка  монолитный, 2022 г.   \n1           от агента             сталинка            кирпичный   \n2           от агента               элитка            кирпичный   \n3     от собственника               элитка  монолитный, 2024 г.   \n4           от агента               элитка  монолитный, 2020 г.   \n...               ...                  ...                  ...   \n3362  от собственника  индивид. планировка  монолитный, 2023 г.   \n3363        от агента  индивид. планировка   кирпичный, 2022 г.   \n3364        от агента  индивид. планировка            кирпичный   \n3365        от агента            108 серия  монолитный, 2023 г.   \n3366        от агента            105 серия            панельный   \n\n               Этаж                             Площадь      Отопление  \\\n0      6 этаж из 14                               47 м2     автономное   \n1       3 этаж из 3                               42 м2    центральное   \n2      8 этаж из 10                              110 м2    центральное   \n3      3 этаж из 12                               68 м2        на газе   \n4     13 этаж из 14                               46 м2    центральное   \n...             ...                                 ...            ...   \n3362    2 этаж из 3                               25 м2            NaN   \n3363  15 этаж из 15             122 м2, жилая: 78.72 м2            NaN   \n3364    1 этаж из 2    54 м2, жилая: 29 м2, кухня: 8 м2  электрическое   \n3365   4 этаж из 16                               27 м2        на газе   \n3366    4 этаж из 5  50 м2, жилая: 32 м2, кухня: 7.5 м2    центральное   \n\n                  Состояние      Санузел  ...   Интернет  Балкон  \\\n0                   хорошее  совмещенный  ...        NaN     NaN   \n1                   хорошее  совмещенный  ...  проводной  балкон   \n2                   хорошее   раздельный  ...  проводной  балкон   \n3                евроремонт          NaN  ...        NaN     NaN   \n4                евроремонт  совмещенный  ...        NaN  лоджия   \n...                     ...          ...  ...        ...     ...   \n3362  под самоотделку (псо)          NaN  ...        NaN     NaN   \n3363                    NaN          NaN  ...        NaN     NaN   \n3364                хорошее          NaN  ...        NaN     NaN   \n3365             евроремонт          NaN  ...        NaN     NaN   \n3366                хорошее   раздельный  ...  проводной  лоджия   \n\n                     Мебель       Пол  \\\n0                    пустая   ламинат   \n1                       NaN       NaN   \n2     полностью меблирована    паркет   \n3     полностью меблирована   ламинат   \n4      частично меблирована   ламинат   \n...                     ...       ...   \n3362                    NaN       NaN   \n3363                    NaN       NaN   \n3364                    NaN       NaN   \n3365                    NaN       NaN   \n3366   частично меблирована  линолеум   \n\n                                           Безопасность   Возможность обмена  \\\n0                                                   NaN                  NaN   \n1                                                   NaN                  NaN   \n2     домофон,                                      ...  обмен не предлагать   \n3     охрана,                                       ...                  NaN   \n4                                               домофон                  NaN   \n...                                                 ...                  ...   \n3362                                                NaN                  NaN   \n3363                                                NaN                  NaN   \n3364                                                NaN                  NaN   \n3365                                                NaN                  NaN   \n3366  домофон,                                      ...                  NaN   \n\n     Возможность рассрочки Возможность ипотеки Площадь участка Комнаты  \n0                      NaN                 NaN             NaN       2  \n1                      NaN                 NaN             NaN       2  \n2                      нет                 нет             NaN       3  \n3                      NaN                 NaN             NaN       2  \n4                      нет                 нет             NaN       1  \n...                    ...                 ...             ...     ...  \n3362                   NaN                 NaN             NaN       1  \n3363                   NaN                есть             NaN       3  \n3364                   NaN                 NaN             NaN       2  \n3365                   нет                 нет             NaN       1  \n3366                   NaN                 NaN             NaN       2  \n\n[3364 rows x 28 columns]",
      "text/html": "<div>\n<style scoped>\n    .dataframe tbody tr th:only-of-type {\n        vertical-align: middle;\n    }\n\n    .dataframe tbody tr th {\n        vertical-align: top;\n    }\n\n    .dataframe thead th {\n        text-align: right;\n    }\n</style>\n<table border=\"1\" class=\"dataframe\">\n  <thead>\n    <tr style=\"text-align: right;\">\n      <th></th>\n      <th>address</th>\n      <th>price_dollars</th>\n      <th>Тип предложения</th>\n      <th>Серия</th>\n      <th>Дом</th>\n      <th>Этаж</th>\n      <th>Площадь</th>\n      <th>Отопление</th>\n      <th>Состояние</th>\n      <th>Санузел</th>\n      <th>...</th>\n      <th>Интернет</th>\n      <th>Балкон</th>\n      <th>Мебель</th>\n      <th>Пол</th>\n      <th>Безопасность</th>\n      <th>Возможность обмена</th>\n      <th>Возможность рассрочки</th>\n      <th>Возможность ипотеки</th>\n      <th>Площадь участка</th>\n      <th>Комнаты</th>\n    </tr>\n  </thead>\n  <tbody>\n    <tr>\n      <th>0</th>\n      <td>Бишкек, Магистраль, Байтик Баатыра/Южная магис...</td>\n      <td>67000.0</td>\n      <td>от агента</td>\n      <td>элитка</td>\n      <td>монолитный, 2022 г.</td>\n      <td>6 этаж из 14</td>\n      <td>47 м2</td>\n      <td>автономное</td>\n      <td>хорошее</td>\n      <td>совмещенный</td>\n      <td>...</td>\n      <td>NaN</td>\n      <td>NaN</td>\n      <td>пустая</td>\n      <td>ламинат</td>\n      <td>NaN</td>\n      <td>NaN</td>\n      <td>NaN</td>\n      <td>NaN</td>\n      <td>NaN</td>\n      <td>2</td>\n    </tr>\n    <tr>\n      <th>1</th>\n      <td>Бишкек, Политех, Чынгыз Айтматова/Ахунбаева</td>\n      <td>54000.0</td>\n      <td>от агента</td>\n      <td>сталинка</td>\n      <td>кирпичный</td>\n      <td>3 этаж из 3</td>\n      <td>42 м2</td>\n      <td>центральное</td>\n      <td>хорошее</td>\n      <td>совмещенный</td>\n      <td>...</td>\n      <td>проводной</td>\n      <td>балкон</td>\n      <td>NaN</td>\n      <td>NaN</td>\n      <td>NaN</td>\n      <td>NaN</td>\n      <td>NaN</td>\n      <td>NaN</td>\n      <td>NaN</td>\n      <td>2</td>\n    </tr>\n    <tr>\n      <th>2</th>\n      <td>Бишкек, Джал-29 м-н</td>\n      <td>122000.0</td>\n      <td>от агента</td>\n      <td>элитка</td>\n      <td>кирпичный</td>\n      <td>8 этаж из 10</td>\n      <td>110 м2</td>\n      <td>центральное</td>\n      <td>хорошее</td>\n      <td>раздельный</td>\n      <td>...</td>\n      <td>проводной</td>\n      <td>балкон</td>\n      <td>полностью меблирована</td>\n      <td>паркет</td>\n      <td>домофон,                                      ...</td>\n      <td>обмен не предлагать</td>\n      <td>нет</td>\n      <td>нет</td>\n      <td>NaN</td>\n      <td>3</td>\n    </tr>\n    <tr>\n      <th>3</th>\n      <td>Бишкек, Магистраль, Куттубаева/Южная Магистраль</td>\n      <td>92000.0</td>\n      <td>от собственника</td>\n      <td>элитка</td>\n      <td>монолитный, 2024 г.</td>\n      <td>3 этаж из 12</td>\n      <td>68 м2</td>\n      <td>на газе</td>\n      <td>евроремонт</td>\n      <td>NaN</td>\n      <td>...</td>\n      <td>NaN</td>\n      <td>NaN</td>\n      <td>полностью меблирована</td>\n      <td>ламинат</td>\n      <td>охрана,                                       ...</td>\n      <td>NaN</td>\n      <td>NaN</td>\n      <td>NaN</td>\n      <td>NaN</td>\n      <td>2</td>\n    </tr>\n    <tr>\n      <th>4</th>\n      <td>Бишкек, Средний Джал м-н, мкр Джал-23 18/2</td>\n      <td>69000.0</td>\n      <td>от агента</td>\n      <td>элитка</td>\n      <td>монолитный, 2020 г.</td>\n      <td>13 этаж из 14</td>\n      <td>46 м2</td>\n      <td>центральное</td>\n      <td>евроремонт</td>\n      <td>совмещенный</td>\n      <td>...</td>\n      <td>NaN</td>\n      <td>лоджия</td>\n      <td>частично меблирована</td>\n      <td>ламинат</td>\n      <td>домофон</td>\n      <td>NaN</td>\n      <td>нет</td>\n      <td>нет</td>\n      <td>NaN</td>\n      <td>1</td>\n    </tr>\n    <tr>\n      <th>...</th>\n      <td>...</td>\n      <td>...</td>\n      <td>...</td>\n      <td>...</td>\n      <td>...</td>\n      <td>...</td>\n      <td>...</td>\n      <td>...</td>\n      <td>...</td>\n      <td>...</td>\n      <td>...</td>\n      <td>...</td>\n      <td>...</td>\n      <td>...</td>\n      <td>...</td>\n      <td>...</td>\n      <td>...</td>\n      <td>...</td>\n      <td>...</td>\n      <td>...</td>\n      <td>...</td>\n    </tr>\n    <tr>\n      <th>3362</th>\n      <td>с. Кара-Ой, ул.Рыскулова / Коенкозова</td>\n      <td>36000.0</td>\n      <td>от собственника</td>\n      <td>индивид. планировка</td>\n      <td>монолитный, 2023 г.</td>\n      <td>2 этаж из 3</td>\n      <td>25 м2</td>\n      <td>NaN</td>\n      <td>под самоотделку (псо)</td>\n      <td>NaN</td>\n      <td>...</td>\n      <td>NaN</td>\n      <td>NaN</td>\n      <td>NaN</td>\n      <td>NaN</td>\n      <td>NaN</td>\n      <td>NaN</td>\n      <td>NaN</td>\n      <td>NaN</td>\n      <td>NaN</td>\n      <td>1</td>\n    </tr>\n    <tr>\n      <th>3363</th>\n      <td>Бишкек, 7 м-н, 7-й микрорайон, 50а стр 1</td>\n      <td>223000.0</td>\n      <td>от агента</td>\n      <td>индивид. планировка</td>\n      <td>кирпичный, 2022 г.</td>\n      <td>15 этаж из 15</td>\n      <td>122 м2, жилая: 78.72 м2</td>\n      <td>NaN</td>\n      <td>NaN</td>\n      <td>NaN</td>\n      <td>...</td>\n      <td>NaN</td>\n      <td>NaN</td>\n      <td>NaN</td>\n      <td>NaN</td>\n      <td>NaN</td>\n      <td>NaN</td>\n      <td>NaN</td>\n      <td>есть</td>\n      <td>NaN</td>\n      <td>3</td>\n    </tr>\n    <tr>\n      <th>3364</th>\n      <td>с. Алга</td>\n      <td>43000.0</td>\n      <td>от агента</td>\n      <td>индивид. планировка</td>\n      <td>кирпичный</td>\n      <td>1 этаж из 2</td>\n      <td>54 м2, жилая: 29 м2, кухня: 8 м2</td>\n      <td>электрическое</td>\n      <td>хорошее</td>\n      <td>NaN</td>\n      <td>...</td>\n      <td>NaN</td>\n      <td>NaN</td>\n      <td>NaN</td>\n      <td>NaN</td>\n      <td>NaN</td>\n      <td>NaN</td>\n      <td>NaN</td>\n      <td>NaN</td>\n      <td>NaN</td>\n      <td>2</td>\n    </tr>\n    <tr>\n      <th>3365</th>\n      <td>Бишкек, Горького - Алма-Атинская, Горького-7-а...</td>\n      <td>39000.0</td>\n      <td>от агента</td>\n      <td>108 серия</td>\n      <td>монолитный, 2023 г.</td>\n      <td>4 этаж из 16</td>\n      <td>27 м2</td>\n      <td>на газе</td>\n      <td>евроремонт</td>\n      <td>NaN</td>\n      <td>...</td>\n      <td>NaN</td>\n      <td>NaN</td>\n      <td>NaN</td>\n      <td>NaN</td>\n      <td>NaN</td>\n      <td>NaN</td>\n      <td>нет</td>\n      <td>нет</td>\n      <td>NaN</td>\n      <td>1</td>\n    </tr>\n    <tr>\n      <th>3366</th>\n      <td>Бишкек, Центральная мечеть, Чокморова/Московск...</td>\n      <td>74500.0</td>\n      <td>от агента</td>\n      <td>105 серия</td>\n      <td>панельный</td>\n      <td>4 этаж из 5</td>\n      <td>50 м2, жилая: 32 м2, кухня: 7.5 м2</td>\n      <td>центральное</td>\n      <td>хорошее</td>\n      <td>раздельный</td>\n      <td>...</td>\n      <td>проводной</td>\n      <td>лоджия</td>\n      <td>частично меблирована</td>\n      <td>линолеум</td>\n      <td>домофон,                                      ...</td>\n      <td>NaN</td>\n      <td>NaN</td>\n      <td>NaN</td>\n      <td>NaN</td>\n      <td>2</td>\n    </tr>\n  </tbody>\n</table>\n<p>3364 rows × 28 columns</p>\n</div>"
     },
     "execution_count": 241,
     "metadata": {},
     "output_type": "execute_result"
    }
   ],
   "source": [
    "df"
   ],
   "metadata": {
    "collapsed": false,
    "ExecuteTime": {
     "end_time": "2025-01-25T09:32:38.095974900Z",
     "start_time": "2025-01-25T09:32:37.964512900Z"
    }
   },
   "id": "18c90a51d2eff019",
   "execution_count": 241
  },
  {
   "cell_type": "code",
   "outputs": [
    {
     "data": {
      "text/plain": "      price_dollars  Тип предложения      Серия                  Дом  \\\n728         77500.0        от агента  106 серия            панельный   \n560        450000.0        от агента     элитка  монолитный, 2020 г.   \n1689       161200.0  от собственника     элитка  монолитный, 2022 г.   \n1126        65000.0        от агента   хрущевка   кирпичный, 1969 г.   \n147        230000.0  от собственника     элитка  монолитный, 2022 г.   \n\n               Этаж                             Площадь    Отопление  \\\n728     7 этаж из 9                               52 м2          NaN   \n560    5 этаж из 15                              160 м2  центральное   \n1689  13 этаж из 14  104 м2, жилая: 80 м2, кухня: 20 м2   автономное   \n1126    2 этаж из 4                  43 м2, кухня: 5 м2  центральное   \n147    4 этаж из 16                              105 м2      на газе   \n\n       Состояние        Санузел            Газ  ...                 Мебель  \\\n728      хорошее     раздельный  магистральный  ...   частично меблирована   \n560   евроремонт            NaN            NaN  ...                    NaN   \n1689  евроремонт            NaN            NaN  ...                    NaN   \n1126     хорошее    совмещенный  магистральный  ...   частично меблирована   \n147   евроремонт  2 с/у и более  магистральный  ...  полностью меблирована   \n\n          Пол                                       Безопасность  \\\n728   ламинат  домофон,                                      ...   \n560       NaN                                                NaN   \n1689      NaN                                                NaN   \n1126   дерево  решетки на окнах,                             ...   \n147    паркет  видеодомофон,                                 ...   \n\n       Возможность обмена Возможность рассрочки Возможность ипотеки  \\\n728                   NaN                   NaN                есть   \n560                   NaN                   NaN                 NaN   \n1689                  NaN                   NaN                 NaN   \n1126  обмен не предлагать                   нет                есть   \n147                   NaN                   NaN                 NaN   \n\n     Площадь участка Комнаты местность  \\\n728              NaN       2    Бишкек   \n560              NaN       4    Бишкек   \n1689             NaN       3    Бишкек   \n1126             NaN       2    Бишкек   \n147              NaN       3    Бишкек   \n\n                                        адресс  \n728                5 м-н, Саякбая Каралаева 81  \n560         Магистраль, Токомбаева/Сухэ-Батора  \n1689  Магистраль, Байтик-Баатыра/А. Токомбаева  \n1126                                   Политех  \n147           Магистраль, Асанбай, Сухэ-Батора  \n\n[5 rows x 29 columns]",
      "text/html": "<div>\n<style scoped>\n    .dataframe tbody tr th:only-of-type {\n        vertical-align: middle;\n    }\n\n    .dataframe tbody tr th {\n        vertical-align: top;\n    }\n\n    .dataframe thead th {\n        text-align: right;\n    }\n</style>\n<table border=\"1\" class=\"dataframe\">\n  <thead>\n    <tr style=\"text-align: right;\">\n      <th></th>\n      <th>price_dollars</th>\n      <th>Тип предложения</th>\n      <th>Серия</th>\n      <th>Дом</th>\n      <th>Этаж</th>\n      <th>Площадь</th>\n      <th>Отопление</th>\n      <th>Состояние</th>\n      <th>Санузел</th>\n      <th>Газ</th>\n      <th>...</th>\n      <th>Мебель</th>\n      <th>Пол</th>\n      <th>Безопасность</th>\n      <th>Возможность обмена</th>\n      <th>Возможность рассрочки</th>\n      <th>Возможность ипотеки</th>\n      <th>Площадь участка</th>\n      <th>Комнаты</th>\n      <th>местность</th>\n      <th>адресс</th>\n    </tr>\n  </thead>\n  <tbody>\n    <tr>\n      <th>728</th>\n      <td>77500.0</td>\n      <td>от агента</td>\n      <td>106 серия</td>\n      <td>панельный</td>\n      <td>7 этаж из 9</td>\n      <td>52 м2</td>\n      <td>NaN</td>\n      <td>хорошее</td>\n      <td>раздельный</td>\n      <td>магистральный</td>\n      <td>...</td>\n      <td>частично меблирована</td>\n      <td>ламинат</td>\n      <td>домофон,                                      ...</td>\n      <td>NaN</td>\n      <td>NaN</td>\n      <td>есть</td>\n      <td>NaN</td>\n      <td>2</td>\n      <td>Бишкек</td>\n      <td>5 м-н, Саякбая Каралаева 81</td>\n    </tr>\n    <tr>\n      <th>560</th>\n      <td>450000.0</td>\n      <td>от агента</td>\n      <td>элитка</td>\n      <td>монолитный, 2020 г.</td>\n      <td>5 этаж из 15</td>\n      <td>160 м2</td>\n      <td>центральное</td>\n      <td>евроремонт</td>\n      <td>NaN</td>\n      <td>NaN</td>\n      <td>...</td>\n      <td>NaN</td>\n      <td>NaN</td>\n      <td>NaN</td>\n      <td>NaN</td>\n      <td>NaN</td>\n      <td>NaN</td>\n      <td>NaN</td>\n      <td>4</td>\n      <td>Бишкек</td>\n      <td>Магистраль, Токомбаева/Сухэ-Батора</td>\n    </tr>\n    <tr>\n      <th>1689</th>\n      <td>161200.0</td>\n      <td>от собственника</td>\n      <td>элитка</td>\n      <td>монолитный, 2022 г.</td>\n      <td>13 этаж из 14</td>\n      <td>104 м2, жилая: 80 м2, кухня: 20 м2</td>\n      <td>автономное</td>\n      <td>евроремонт</td>\n      <td>NaN</td>\n      <td>NaN</td>\n      <td>...</td>\n      <td>NaN</td>\n      <td>NaN</td>\n      <td>NaN</td>\n      <td>NaN</td>\n      <td>NaN</td>\n      <td>NaN</td>\n      <td>NaN</td>\n      <td>3</td>\n      <td>Бишкек</td>\n      <td>Магистраль, Байтик-Баатыра/А. Токомбаева</td>\n    </tr>\n    <tr>\n      <th>1126</th>\n      <td>65000.0</td>\n      <td>от агента</td>\n      <td>хрущевка</td>\n      <td>кирпичный, 1969 г.</td>\n      <td>2 этаж из 4</td>\n      <td>43 м2, кухня: 5 м2</td>\n      <td>центральное</td>\n      <td>хорошее</td>\n      <td>совмещенный</td>\n      <td>магистральный</td>\n      <td>...</td>\n      <td>частично меблирована</td>\n      <td>дерево</td>\n      <td>решетки на окнах,                             ...</td>\n      <td>обмен не предлагать</td>\n      <td>нет</td>\n      <td>есть</td>\n      <td>NaN</td>\n      <td>2</td>\n      <td>Бишкек</td>\n      <td>Политех</td>\n    </tr>\n    <tr>\n      <th>147</th>\n      <td>230000.0</td>\n      <td>от собственника</td>\n      <td>элитка</td>\n      <td>монолитный, 2022 г.</td>\n      <td>4 этаж из 16</td>\n      <td>105 м2</td>\n      <td>на газе</td>\n      <td>евроремонт</td>\n      <td>2 с/у и более</td>\n      <td>магистральный</td>\n      <td>...</td>\n      <td>полностью меблирована</td>\n      <td>паркет</td>\n      <td>видеодомофон,                                 ...</td>\n      <td>NaN</td>\n      <td>NaN</td>\n      <td>NaN</td>\n      <td>NaN</td>\n      <td>3</td>\n      <td>Бишкек</td>\n      <td>Магистраль, Асанбай, Сухэ-Батора</td>\n    </tr>\n  </tbody>\n</table>\n<p>5 rows × 29 columns</p>\n</div>"
     },
     "execution_count": 242,
     "metadata": {},
     "output_type": "execute_result"
    }
   ],
   "source": [
    "city = []\n",
    "ad = []\n",
    "for address in df['address']:\n",
    "    parts = address.split(', ', 1)\n",
    "    if len(parts) == 1:\n",
    "        parts.append('Nan')\n",
    "    city.append(parts[0])\n",
    "    ad.append(parts[1])\n",
    "\n",
    "df['местность'] = city\n",
    "df['адресс'] = ad \n",
    "df.drop(columns=['address'], inplace=True)\n",
    "df.sample(5)\n"
   ],
   "metadata": {
    "collapsed": false,
    "ExecuteTime": {
     "end_time": "2025-01-25T09:32:38.144036800Z",
     "start_time": "2025-01-25T09:32:38.013363700Z"
    }
   },
   "id": "37f7a4794b5ddf33",
   "execution_count": 242
  },
  {
   "cell_type": "code",
   "outputs": [
    {
     "data": {
      "text/plain": "      price_dollars  Тип предложения                 Серия  \\\n123         43500.0        от агента   индивид. планировка   \n179        250000.0        от агента                элитка   \n691         58000.0  от собственника  106 серия улучшенная   \n689         55000.0        от агента             106 серия   \n1944       350000.0        от агента                элитка   \n\n                      Дом           Этаж  \\\n123             кирпичный    4 этаж из 4   \n179   монолитный, 2020 г.   3 этаж из 12   \n691   монолитный, 2025 г.    3 этаж из 9   \n689             панельный    1 этаж из 9   \n1944           монолитный  11 этаж из 14   \n\n                                   Площадь    Отопление  \\\n123   31 м2, жилая: 17.3 м2, кухня: 5.5 м2  центральное   \n179                                 130 м2          NaN   \n691                                  67 м2      на газе   \n689                                  44 м2  центральное   \n1944                                152 м2      на газе   \n\n                  Состояние     Санузел  Газ  ... Мебель  Пол Безопасность  \\\n123                 среднее  раздельный  NaN  ...    NaN  NaN          NaN   \n179              евроремонт         NaN  NaN  ...    NaN  NaN          NaN   \n691   под самоотделку (псо)  раздельный  NaN  ...    NaN  NaN          NaN   \n689              евроремонт         NaN  NaN  ...    NaN  NaN          NaN   \n1944             евроремонт         NaN  NaN  ...    NaN  NaN          NaN   \n\n     Возможность обмена Возможность рассрочки Возможность ипотеки  \\\n123                 NaN                   NaN                 NaN   \n179                 NaN                   NaN                 NaN   \n691                 NaN                   NaN                 NaN   \n689                 NaN                   NaN                 NaN   \n1944                NaN                   NaN                 NaN   \n\n     Площадь участка Комнаты местность                    адресс  \n123              NaN       1    Бишкек                    Таатан  \n179              NaN       4    Бишкек                Магистраль  \n691              NaN       2    Бишкек  Горького - Алма-Атинская  \n689              NaN       1    Бишкек          Верхний Джал м-н  \n1944             NaN       4    Бишкек                Магистраль  \n\n[5 rows x 29 columns]",
      "text/html": "<div>\n<style scoped>\n    .dataframe tbody tr th:only-of-type {\n        vertical-align: middle;\n    }\n\n    .dataframe tbody tr th {\n        vertical-align: top;\n    }\n\n    .dataframe thead th {\n        text-align: right;\n    }\n</style>\n<table border=\"1\" class=\"dataframe\">\n  <thead>\n    <tr style=\"text-align: right;\">\n      <th></th>\n      <th>price_dollars</th>\n      <th>Тип предложения</th>\n      <th>Серия</th>\n      <th>Дом</th>\n      <th>Этаж</th>\n      <th>Площадь</th>\n      <th>Отопление</th>\n      <th>Состояние</th>\n      <th>Санузел</th>\n      <th>Газ</th>\n      <th>...</th>\n      <th>Мебель</th>\n      <th>Пол</th>\n      <th>Безопасность</th>\n      <th>Возможность обмена</th>\n      <th>Возможность рассрочки</th>\n      <th>Возможность ипотеки</th>\n      <th>Площадь участка</th>\n      <th>Комнаты</th>\n      <th>местность</th>\n      <th>адресс</th>\n    </tr>\n  </thead>\n  <tbody>\n    <tr>\n      <th>123</th>\n      <td>43500.0</td>\n      <td>от агента</td>\n      <td>индивид. планировка</td>\n      <td>кирпичный</td>\n      <td>4 этаж из 4</td>\n      <td>31 м2, жилая: 17.3 м2, кухня: 5.5 м2</td>\n      <td>центральное</td>\n      <td>среднее</td>\n      <td>раздельный</td>\n      <td>NaN</td>\n      <td>...</td>\n      <td>NaN</td>\n      <td>NaN</td>\n      <td>NaN</td>\n      <td>NaN</td>\n      <td>NaN</td>\n      <td>NaN</td>\n      <td>NaN</td>\n      <td>1</td>\n      <td>Бишкек</td>\n      <td>Таатан</td>\n    </tr>\n    <tr>\n      <th>179</th>\n      <td>250000.0</td>\n      <td>от агента</td>\n      <td>элитка</td>\n      <td>монолитный, 2020 г.</td>\n      <td>3 этаж из 12</td>\n      <td>130 м2</td>\n      <td>NaN</td>\n      <td>евроремонт</td>\n      <td>NaN</td>\n      <td>NaN</td>\n      <td>...</td>\n      <td>NaN</td>\n      <td>NaN</td>\n      <td>NaN</td>\n      <td>NaN</td>\n      <td>NaN</td>\n      <td>NaN</td>\n      <td>NaN</td>\n      <td>4</td>\n      <td>Бишкек</td>\n      <td>Магистраль</td>\n    </tr>\n    <tr>\n      <th>691</th>\n      <td>58000.0</td>\n      <td>от собственника</td>\n      <td>106 серия улучшенная</td>\n      <td>монолитный, 2025 г.</td>\n      <td>3 этаж из 9</td>\n      <td>67 м2</td>\n      <td>на газе</td>\n      <td>под самоотделку (псо)</td>\n      <td>раздельный</td>\n      <td>NaN</td>\n      <td>...</td>\n      <td>NaN</td>\n      <td>NaN</td>\n      <td>NaN</td>\n      <td>NaN</td>\n      <td>NaN</td>\n      <td>NaN</td>\n      <td>NaN</td>\n      <td>2</td>\n      <td>Бишкек</td>\n      <td>Горького - Алма-Атинская</td>\n    </tr>\n    <tr>\n      <th>689</th>\n      <td>55000.0</td>\n      <td>от агента</td>\n      <td>106 серия</td>\n      <td>панельный</td>\n      <td>1 этаж из 9</td>\n      <td>44 м2</td>\n      <td>центральное</td>\n      <td>евроремонт</td>\n      <td>NaN</td>\n      <td>NaN</td>\n      <td>...</td>\n      <td>NaN</td>\n      <td>NaN</td>\n      <td>NaN</td>\n      <td>NaN</td>\n      <td>NaN</td>\n      <td>NaN</td>\n      <td>NaN</td>\n      <td>1</td>\n      <td>Бишкек</td>\n      <td>Верхний Джал м-н</td>\n    </tr>\n    <tr>\n      <th>1944</th>\n      <td>350000.0</td>\n      <td>от агента</td>\n      <td>элитка</td>\n      <td>монолитный</td>\n      <td>11 этаж из 14</td>\n      <td>152 м2</td>\n      <td>на газе</td>\n      <td>евроремонт</td>\n      <td>NaN</td>\n      <td>NaN</td>\n      <td>...</td>\n      <td>NaN</td>\n      <td>NaN</td>\n      <td>NaN</td>\n      <td>NaN</td>\n      <td>NaN</td>\n      <td>NaN</td>\n      <td>NaN</td>\n      <td>4</td>\n      <td>Бишкек</td>\n      <td>Магистраль</td>\n    </tr>\n  </tbody>\n</table>\n<p>5 rows × 29 columns</p>\n</div>"
     },
     "execution_count": 243,
     "metadata": {},
     "output_type": "execute_result"
    }
   ],
   "source": [
    "adres = []\n",
    "for a in df['адресс']:\n",
    "    parts = a.split(', ', 1)\n",
    "    adres.append(parts[0])\n",
    "df['адресс'] = adres\n",
    "df.sample(5)"
   ],
   "metadata": {
    "collapsed": false,
    "ExecuteTime": {
     "end_time": "2025-01-25T09:32:38.297773700Z",
     "start_time": "2025-01-25T09:32:38.108576300Z"
    }
   },
   "id": "66bb947a16958ad",
   "execution_count": 243
  },
  {
   "cell_type": "code",
   "outputs": [
    {
     "data": {
      "text/plain": "array(['Магистраль', 'Политех', 'Джал-29 м-н', 'Средний Джал м-н',\n       'Киргизия-2 м-н', 'Ала-Тоо м-н', 'Кок-Жар м-н',\n       'Алма-Атинская 11/Южная магистраль', 'Гоин 140', 'КГУСТА',\n       'Душанбинка', 'VEFA', 'Баха', 'Джальская больница',\n       'Старый аэропорт', 'Кудайберген', 'Моссовет', '4 м-н/донецкая',\n       'Военторг', 'Парк Панфилова/Спартак', 'Горького - Алма-Атинская',\n       'ТЭЦ', 'Улан-2 м-н', 'Октябрьский район', 'ЖД вокзал',\n       'Боталиева - Тулебердиева', '3', '1000 мелочей',\n       'Восток-5 м-н 10/армейская', 'Таатан', 'Жилгородок Ницца',\n       '7 м-н 20', 'Гагарина', '7 м-н', 'КНУ', 'Тунгуч м-н', 'Nan',\n       'Кок-Жар ж/м', 'БГУ', 'Горького - Панфилова', 'Асанбай м-н',\n       'Ипподром', 'Джал-23 м-н (Нижний Джал)', 'Городок энергетиков',\n       'Советская - Скрябина', 'Госрегистр', '5 м-н',\n       'Московская - Уметалиева', 'Юбилейка', 'АУЦА',\n       'Сквер Тоголок Молдо', 'Карла Маркса', 'Аламедин-1 м-н', '8 м-н',\n       '3-мкр', 'Московская - Белинка', 'Кара-Жыгач ж/м', 'Шлагбаум',\n       'Верхний Джал м-н', 'Чуй - Алматинка', 'ЦУМ', 'Алматы',\n       'с. Бостери', '12 м-н', 'Ак Кеме', 'гагарина 19', 'Академия Наук',\n       'АЮ Grand', 'Молодая Гвардия', 'Тунгуч м-н 80', 'Достук',\n       'Центральная мечеть', 'Достук,', 'Городок строителей',\n       'Джал 15 м-н', '4 м-н', 'Пишпек ж/м', 'Пишпек ж/м 101', '10 м-н',\n       'Кызыл-Аскер ж/м', 'Ынтымак ж/м', '6 м-н', 'с. Лебединовка',\n       'Мед. академия', 'Красный Строитель ж/м',\n       ' ул. Э. Ибраева 9 / Лермонтова.', 'Юго-Восток ,Касымов ул. 309',\n       'Ленина проспект 223', '9 м-н', 'Ош', 'Западный автовокзал',\n       'Ачекей 47/8/Арашан', 'Арча-Бешик ж/м', 'мкр. Аламедин-1',\n       '12 м-н 33', 'Золотой квадрат', 'Дворец спорта',\n       'VEFA 15/Элебаева', 'Гагарина 16/Воркутинская', 'Каралаева',\n       'Физкультурный', 'ТЭЦ 66', 'Ден Сяопина - Фучика', 'Парк Ататюрк',\n       'С. Каралаева', 'Азия Молл', 'Юг-2 м-н', 'Нижний Токольдош',\n       'Цирк/Дворец бракосочетания 123/Абдрахманова',\n       'Алма-Атинская/Южная магистраль', 'Восток-5 м-н', 'Асанбай м-н 13',\n       'Академия Наук 94', '1 микрорайон', 'Космос',\n       'Магистраль/Южная Магистраль', 'Мичурина', 'Рухий Мурас ж/м',\n       'Чокана Валиханова - Исакеева', 'Магистраль/ЖукееваПудовкина',\n       'Юг-2 м-н 4', 'Свердловский район 75', 'Чолпон-Ата',\n       'Проектируемая', 'Карпинка', 'с. Кок-Жар',\n       ' ул. Барпы Алыкулова/Южная Магистраль', 'Магистраль 29',\n       'с. Каджи-Сай 34/34', 'Бишкек-Парк', 'Ак-Орго ж/м',\n       'Мира/Карл-Маркса', 'Молодая Гвардия/бул. Молодой Гвардии',\n       'Каракол', 'Таатан 5', 'Проспект Ленина 208', 'Арашан 10а',\n       'Комфорт', 'Кулатова- Матросова', 'Восточный автовокзал',\n       'с.Кок-Жар', 'Ак-Ордо ж/м', 'с. Сары-Ой', 'Аламединский рынок',\n       'Магистраль/Масалиева', 'Ош 80', 'Улан м-н', 'баялинов 31',\n       'с. Булан-Соготту', 'с. Кок-Джар Бейшена Егимбаева',\n       'Ак Эмир рынок', 'Комфорт 61', 'Кок-Жар м-н 3', 'Киргизия 1 ж/м',\n       'Учкун м-н', 'Матросова', 'Филармония', '11 м-н', 'Балыкчы',\n       'Мичурина 121', 'Дордой Плаза', '6 м-н 18', 'Таш Рабат',\n       'Площадь Победы', 'мкр. Кок Жар', 'ТЭЦ 22', 'Парк Ататюрк 129',\n       'Кок-Жар м-н 4', 'Кольбаева 42/1', '3 м-н', 'Ленинское',\n       'Свердловский район', 'Джал-23 м-н (Нижний Джал) 202/Тыналиева',\n       'с. Кош-Коль', 'Вечерка', 'Рабочий Городок', 'Ген прокуратура',\n       'Мед. академия 1/Малдыбаева', 'Политех 146/джунусалиева',\n       'Энергетическая', 'Мадина', 'Краснодарская', 'Чолпон-Ата 126',\n       'Московская - Уметалиева 10', 'Восток-5 м-н 3', '12 м-н 69',\n       'Центральная мечеть 4/Боконбаева', '12 м-н 59',\n       'Горького-7-апреля', '8 м-н 18', 'Баялинова 31/Баялинова',\n       'Алма-Aтинская/Токомбаева', '5 м-н 55а', 'Советская/гагарина',\n       'Куюкова 4', 'Западный квартал', 'VEFA 1',\n       'Цирк/Дворец бракосочетания', 'с. Бостери 92',\n       'Аламедин-1 м-н/Ауэзова', 'с. Чок-Тал', 'Верхний Джал м-н,',\n       'Магистраль/7 апреля', 'Ленина 223/Лермонтова', 'Достук/Фрунзе',\n       'Махатма Ганди - БЧК',\n       'Токмок  Айыл банк .ул. шоссейная (жантаева)', 'Ленинский район',\n       '4 м-н 4а', 'Городок энергетиков 12/Мичурина',\n       'Авиагородок Манас 4', '7 м-н 11A', '11 м-н 21', 'Академия МВД',\n       'Ак-Орго ж/м 91', 'Аламедин-1 м-н 48',\n       'КНУ 219/Жибек жолу- Турусбекова', '2 отд.  МИС', 'Ипподром 126',\n       'Политех/Ахунбаева/Белинка', 'Тоголок-Молдо - БЧК', 'Кара Дарыя',\n       ' ул. Октябрьская 3/Кудряшова', 'Золотой квадрат/мосуовская',\n       'ЦУМ/шопокова/ибраимова', 'Проспект Ленина 12/Мичурина',\n       'Восточный автовокзал 37/Карпинского', '4 м-н 44',\n       'Красный Строитель ж/м 16/Ак-Терекская',\n       'Алма-Атинская 1/Южная магистраль', 'Восток-5 м-н 7/чуй',\n       'Мичурина 126а', 'с. Кок-Джар', 'Щербакова ж/м', 'Восток-5 м-н 19',\n       'Москва', 'с. Кош-кол', 'Кипкалова', 'мичурина 126А',\n       'Ак Кеме/Ажыбек Баатыра', 'Фрунзе 6', 'Восток-5 м-н 4',\n       'Джалал-Абад', 'Кожзавод', '12 м-н 13/2',\n       'Бишкек-Парк 129/Исанова', 'Политех/Ахунбаева',\n       'МИС – Абрикосовая 7', 'с. Корумду (Иссык-Кульский р-н)',\n       'Горького - Алма-Атинская/Ауэзова', 'Улан-2 м-н 24', '12 м-н 65',\n       'Городок энергетиков/Зелёная', 'Военторг/Коенкозова',\n       'Восточный автовокзал/Жумабека/Осмонкулаа',\n       'Старый аэропорт/Ахунбаева/Бакаева',\n       'Джал-23 м-н (Нижний Джал) 86', 'Каралаева (Набережная)',\n       'Нижний Токольдош 89', 'Карпинка 59', 'Чолпон-Ата 1',\n       'Мичурина 265', '7 апреля 1/1/Горького', '6 м-н/сухэ-батора',\n       'Баха/Ахунбаева', 'кв. Победы 11', ' улица 50 лет октября 10',\n       '5 м-н 5', 'Тенир-Тоо м-н 209/Айни', 'арашан 10а',\n       '40 лет Киргизии 33/С улицей  Гвардейская', 'Сейтек',\n       'Ала-Арча ж/м', ' ул. Советская', 'Достук м-н', '5 м-н 6',\n       'Ипподром/л.толстого', 'ТЭЦ 55', 'Карпинка/Токтогула Герцена',\n       'Магистраль 4Б/б', '110 квартал ж/м', 'Асанбай м-н 14',\n       'Магистраль 15/Южная Магистраль', 'Лущихина - Льва Толстого',\n       'Сокулук', 'Асанбай м-н 37/Токомбаева', 'Баялинова 31',\n       'Аламедин-1 м-н 41', 'Алматинка/Магистраль',\n       '6-микр. по ул. Каралаева', 'Проспект Ленина 5/Ауэзова',\n       'Баялинова 31/7-апреля', 'Учкун м-н 21', 'Магистраль/Токомбаева',\n       'Восточный автовокзал/Торокул Айтматова',\n       ' ул. Баха / Южная Магистраль', 'Ахунбаева (Бот. Сад) 2/7',\n       'Кудайберген 155', 'Ошский рынок', 'Тунгуч м-н стр. 21',\n       'с. Бактуу-Долоноту', '6 м-н 13/куттубаева', 'Улан-2 м-н 2/19',\n       'Московская - Белинка/московская', '12 м-н 57/2',\n       'Центральная мечеть/Бокомбаева', 'Военторг 198/Коенкозова',\n       '6 м-н/6мкр', 'Мичурина 121Б', 'ЦО РАДУГА ВЕСТ 90а',\n       'Строительная 1', 'Чолпон-Ата 59', '4 м-н 7',\n       'Магистраль/Сухэ батора', '8 м-н 1а', 'Магистраль/Магистраль',\n       'Бейшена Эгинбаева 151 б',\n       'Проспект  Ленина ( бывшая. салиева ) 118/Токмакская',\n       'Раимбекова 24', '7 м-н 29', 'Турция', 'Магистраль/А. Токомбаева',\n       '4 м-н 49/1', '10 м-н 14', '4 м-н 6', 'с. Кара-Ой', '12 м-н 69/2',\n       'Молодая Гвардия 14/Московская', '2 32', 'Джалал-Абад 47', 'Гоин',\n       'Джал-23 м-н (Нижний Джал) 75', '8 м-н 14', '12 м-н 55', 'Супара',\n       'Орозбекова - Жибек-Жолу', 'Проспект Ленина 208 5/Ауэзова/Ленина',\n       'Аблесова', 'Тулеева', 'Молодая Гвардия/Киевская',\n       'Советская - БЧК', 'Керамическая ж/м', 'Ош 128', '3 микрорайон 31',\n       ' ул.Ленина(быв Салиева)', '10 м-н 20/1', 'Учкун-2 ж/м',\n       'Каракол 48', 'Каралаева 7/4', 'Аламедин-1 м-н 29', '10 м-н 2',\n       'Ошский рынок 81/чуй', 'Молодая Гвардия 7', '11 м-н 17/1',\n       'Центральная мечеть/Московская/Правда', 'КНУ 230/Уметалиева',\n       'Алматинка - Магистраль', 'Кара-Жыгач ж/м 46',\n       'Ахунбаева (Бот. Сад) 2/7/Каралаева', 'Кок-Жар м-н 18', '4 м-н 50',\n       'Гэс-5 26', 'Туберкулезная больница 1',\n       'Горького - Алма-Атинская 7/Алма-Атинская', 'Абрикосовая',\n       '7 м-н 44', 'Ортосайский рынок', 'Магистраль/токомбаева',\n       'Средний Джал м-н 37', 'Курманжан Датка 132',\n       'ул.Рыскулова / Коенкозова'], dtype=object)"
     },
     "execution_count": 244,
     "metadata": {},
     "output_type": "execute_result"
    }
   ],
   "source": [
    "df['адресс'].unique()"
   ],
   "metadata": {
    "collapsed": false,
    "ExecuteTime": {
     "end_time": "2025-01-25T09:32:38.380945900Z",
     "start_time": "2025-01-25T09:32:38.226519900Z"
    }
   },
   "id": "a40d8a19e98a95b5",
   "execution_count": 244
  },
  {
   "cell_type": "code",
   "outputs": [
    {
     "data": {
      "text/plain": "      price_dollars  Тип предложения                Серия  \\\n0           67000.0        от агента               элитка   \n1           54000.0        от агента             сталинка   \n2          122000.0        от агента               элитка   \n3           92000.0  от собственника               элитка   \n4           69000.0        от агента               элитка   \n...             ...              ...                  ...   \n3362        36000.0  от собственника  индивид. планировка   \n3363       223000.0        от агента  индивид. планировка   \n3364        43000.0        от агента  индивид. планировка   \n3365        39000.0        от агента            108 серия   \n3366        74500.0        от агента            105 серия   \n\n                      Дом           Этаж                             Площадь  \\\n0     монолитный, 2022 г.   6 этаж из 14                               47 м2   \n1               кирпичный    3 этаж из 3                               42 м2   \n2               кирпичный   8 этаж из 10                              110 м2   \n3     монолитный, 2024 г.   3 этаж из 12                               68 м2   \n4     монолитный, 2020 г.  13 этаж из 14                               46 м2   \n...                   ...            ...                                 ...   \n3362  монолитный, 2023 г.    2 этаж из 3                               25 м2   \n3363   кирпичный, 2022 г.  15 этаж из 15             122 м2, жилая: 78.72 м2   \n3364            кирпичный    1 этаж из 2    54 м2, жилая: 29 м2, кухня: 8 м2   \n3365  монолитный, 2023 г.   4 этаж из 16                               27 м2   \n3366            панельный    4 этаж из 5  50 м2, жилая: 32 м2, кухня: 7.5 м2   \n\n          Отопление              Состояние      Санузел            Газ  ...  \\\n0        автономное                хорошее  совмещенный  магистральный  ...   \n1       центральное                хорошее  совмещенный  магистральный  ...   \n2       центральное                хорошее   раздельный  магистральный  ...   \n3           на газе             евроремонт          NaN            NaN  ...   \n4       центральное             евроремонт  совмещенный  магистральный  ...   \n...             ...                    ...          ...            ...  ...   \n3362            NaN  под самоотделку (псо)          NaN            NaN  ...   \n3363            NaN                    NaN          NaN            NaN  ...   \n3364  электрическое                хорошее          NaN            NaN  ...   \n3365        на газе             евроремонт          NaN            NaN  ...   \n3366    центральное                хорошее   раздельный  магистральный  ...   \n\n           Пол                                       Безопасность  \\\n0      ламинат                                                NaN   \n1          NaN                                                NaN   \n2       паркет  домофон,                                      ...   \n3      ламинат  охрана,                                       ...   \n4      ламинат                                            домофон   \n...        ...                                                ...   \n3362       NaN                                                NaN   \n3363       NaN                                                NaN   \n3364       NaN                                                NaN   \n3365       NaN                                                NaN   \n3366  линолеум  домофон,                                      ...   \n\n       Возможность обмена Возможность рассрочки Возможность ипотеки  \\\n0                     NaN                   NaN                 NaN   \n1                     NaN                   NaN                 NaN   \n2     обмен не предлагать                   нет                 нет   \n3                     NaN                   NaN                 NaN   \n4                     NaN                   нет                 нет   \n...                   ...                   ...                 ...   \n3362                  NaN                   NaN                 NaN   \n3363                  NaN                   NaN                есть   \n3364                  NaN                   NaN                 NaN   \n3365                  NaN                   нет                 нет   \n3366                  NaN                   NaN                 NaN   \n\n     Площадь участка Комнаты   местность                     адресс  \\\n0                NaN       2      Бишкек                 Магистраль   \n1                NaN       2      Бишкек                    Политех   \n2                NaN       3      Бишкек                Джал-29 м-н   \n3                NaN       2      Бишкек                 Магистраль   \n4                NaN       1      Бишкек           Средний Джал м-н   \n...              ...     ...         ...                        ...   \n3362             NaN       1  с. Кара-Ой  ул.Рыскулова / Коенкозова   \n3363             NaN       3      Бишкек                      7 м-н   \n3364             NaN       2     с. Алга                        Nan   \n3365             NaN       1      Бишкек   Горького - Алма-Атинская   \n3366             NaN       2      Бишкек         Центральная мечеть   \n\n     ср_стоим_адресс  \n0      126094.258982  \n1       81286.725000  \n2       90776.666667  \n3      126094.258982  \n4       94780.000000  \n...              ...  \n3362    36000.000000  \n3363   126661.551020  \n3364    54777.288136  \n3365    59111.809091  \n3366    76200.000000  \n\n[3364 rows x 30 columns]",
      "text/html": "<div>\n<style scoped>\n    .dataframe tbody tr th:only-of-type {\n        vertical-align: middle;\n    }\n\n    .dataframe tbody tr th {\n        vertical-align: top;\n    }\n\n    .dataframe thead th {\n        text-align: right;\n    }\n</style>\n<table border=\"1\" class=\"dataframe\">\n  <thead>\n    <tr style=\"text-align: right;\">\n      <th></th>\n      <th>price_dollars</th>\n      <th>Тип предложения</th>\n      <th>Серия</th>\n      <th>Дом</th>\n      <th>Этаж</th>\n      <th>Площадь</th>\n      <th>Отопление</th>\n      <th>Состояние</th>\n      <th>Санузел</th>\n      <th>Газ</th>\n      <th>...</th>\n      <th>Пол</th>\n      <th>Безопасность</th>\n      <th>Возможность обмена</th>\n      <th>Возможность рассрочки</th>\n      <th>Возможность ипотеки</th>\n      <th>Площадь участка</th>\n      <th>Комнаты</th>\n      <th>местность</th>\n      <th>адресс</th>\n      <th>ср_стоим_адресс</th>\n    </tr>\n  </thead>\n  <tbody>\n    <tr>\n      <th>0</th>\n      <td>67000.0</td>\n      <td>от агента</td>\n      <td>элитка</td>\n      <td>монолитный, 2022 г.</td>\n      <td>6 этаж из 14</td>\n      <td>47 м2</td>\n      <td>автономное</td>\n      <td>хорошее</td>\n      <td>совмещенный</td>\n      <td>магистральный</td>\n      <td>...</td>\n      <td>ламинат</td>\n      <td>NaN</td>\n      <td>NaN</td>\n      <td>NaN</td>\n      <td>NaN</td>\n      <td>NaN</td>\n      <td>2</td>\n      <td>Бишкек</td>\n      <td>Магистраль</td>\n      <td>126094.258982</td>\n    </tr>\n    <tr>\n      <th>1</th>\n      <td>54000.0</td>\n      <td>от агента</td>\n      <td>сталинка</td>\n      <td>кирпичный</td>\n      <td>3 этаж из 3</td>\n      <td>42 м2</td>\n      <td>центральное</td>\n      <td>хорошее</td>\n      <td>совмещенный</td>\n      <td>магистральный</td>\n      <td>...</td>\n      <td>NaN</td>\n      <td>NaN</td>\n      <td>NaN</td>\n      <td>NaN</td>\n      <td>NaN</td>\n      <td>NaN</td>\n      <td>2</td>\n      <td>Бишкек</td>\n      <td>Политех</td>\n      <td>81286.725000</td>\n    </tr>\n    <tr>\n      <th>2</th>\n      <td>122000.0</td>\n      <td>от агента</td>\n      <td>элитка</td>\n      <td>кирпичный</td>\n      <td>8 этаж из 10</td>\n      <td>110 м2</td>\n      <td>центральное</td>\n      <td>хорошее</td>\n      <td>раздельный</td>\n      <td>магистральный</td>\n      <td>...</td>\n      <td>паркет</td>\n      <td>домофон,                                      ...</td>\n      <td>обмен не предлагать</td>\n      <td>нет</td>\n      <td>нет</td>\n      <td>NaN</td>\n      <td>3</td>\n      <td>Бишкек</td>\n      <td>Джал-29 м-н</td>\n      <td>90776.666667</td>\n    </tr>\n    <tr>\n      <th>3</th>\n      <td>92000.0</td>\n      <td>от собственника</td>\n      <td>элитка</td>\n      <td>монолитный, 2024 г.</td>\n      <td>3 этаж из 12</td>\n      <td>68 м2</td>\n      <td>на газе</td>\n      <td>евроремонт</td>\n      <td>NaN</td>\n      <td>NaN</td>\n      <td>...</td>\n      <td>ламинат</td>\n      <td>охрана,                                       ...</td>\n      <td>NaN</td>\n      <td>NaN</td>\n      <td>NaN</td>\n      <td>NaN</td>\n      <td>2</td>\n      <td>Бишкек</td>\n      <td>Магистраль</td>\n      <td>126094.258982</td>\n    </tr>\n    <tr>\n      <th>4</th>\n      <td>69000.0</td>\n      <td>от агента</td>\n      <td>элитка</td>\n      <td>монолитный, 2020 г.</td>\n      <td>13 этаж из 14</td>\n      <td>46 м2</td>\n      <td>центральное</td>\n      <td>евроремонт</td>\n      <td>совмещенный</td>\n      <td>магистральный</td>\n      <td>...</td>\n      <td>ламинат</td>\n      <td>домофон</td>\n      <td>NaN</td>\n      <td>нет</td>\n      <td>нет</td>\n      <td>NaN</td>\n      <td>1</td>\n      <td>Бишкек</td>\n      <td>Средний Джал м-н</td>\n      <td>94780.000000</td>\n    </tr>\n    <tr>\n      <th>...</th>\n      <td>...</td>\n      <td>...</td>\n      <td>...</td>\n      <td>...</td>\n      <td>...</td>\n      <td>...</td>\n      <td>...</td>\n      <td>...</td>\n      <td>...</td>\n      <td>...</td>\n      <td>...</td>\n      <td>...</td>\n      <td>...</td>\n      <td>...</td>\n      <td>...</td>\n      <td>...</td>\n      <td>...</td>\n      <td>...</td>\n      <td>...</td>\n      <td>...</td>\n      <td>...</td>\n    </tr>\n    <tr>\n      <th>3362</th>\n      <td>36000.0</td>\n      <td>от собственника</td>\n      <td>индивид. планировка</td>\n      <td>монолитный, 2023 г.</td>\n      <td>2 этаж из 3</td>\n      <td>25 м2</td>\n      <td>NaN</td>\n      <td>под самоотделку (псо)</td>\n      <td>NaN</td>\n      <td>NaN</td>\n      <td>...</td>\n      <td>NaN</td>\n      <td>NaN</td>\n      <td>NaN</td>\n      <td>NaN</td>\n      <td>NaN</td>\n      <td>NaN</td>\n      <td>1</td>\n      <td>с. Кара-Ой</td>\n      <td>ул.Рыскулова / Коенкозова</td>\n      <td>36000.000000</td>\n    </tr>\n    <tr>\n      <th>3363</th>\n      <td>223000.0</td>\n      <td>от агента</td>\n      <td>индивид. планировка</td>\n      <td>кирпичный, 2022 г.</td>\n      <td>15 этаж из 15</td>\n      <td>122 м2, жилая: 78.72 м2</td>\n      <td>NaN</td>\n      <td>NaN</td>\n      <td>NaN</td>\n      <td>NaN</td>\n      <td>...</td>\n      <td>NaN</td>\n      <td>NaN</td>\n      <td>NaN</td>\n      <td>NaN</td>\n      <td>есть</td>\n      <td>NaN</td>\n      <td>3</td>\n      <td>Бишкек</td>\n      <td>7 м-н</td>\n      <td>126661.551020</td>\n    </tr>\n    <tr>\n      <th>3364</th>\n      <td>43000.0</td>\n      <td>от агента</td>\n      <td>индивид. планировка</td>\n      <td>кирпичный</td>\n      <td>1 этаж из 2</td>\n      <td>54 м2, жилая: 29 м2, кухня: 8 м2</td>\n      <td>электрическое</td>\n      <td>хорошее</td>\n      <td>NaN</td>\n      <td>NaN</td>\n      <td>...</td>\n      <td>NaN</td>\n      <td>NaN</td>\n      <td>NaN</td>\n      <td>NaN</td>\n      <td>NaN</td>\n      <td>NaN</td>\n      <td>2</td>\n      <td>с. Алга</td>\n      <td>Nan</td>\n      <td>54777.288136</td>\n    </tr>\n    <tr>\n      <th>3365</th>\n      <td>39000.0</td>\n      <td>от агента</td>\n      <td>108 серия</td>\n      <td>монолитный, 2023 г.</td>\n      <td>4 этаж из 16</td>\n      <td>27 м2</td>\n      <td>на газе</td>\n      <td>евроремонт</td>\n      <td>NaN</td>\n      <td>NaN</td>\n      <td>...</td>\n      <td>NaN</td>\n      <td>NaN</td>\n      <td>NaN</td>\n      <td>нет</td>\n      <td>нет</td>\n      <td>NaN</td>\n      <td>1</td>\n      <td>Бишкек</td>\n      <td>Горького - Алма-Атинская</td>\n      <td>59111.809091</td>\n    </tr>\n    <tr>\n      <th>3366</th>\n      <td>74500.0</td>\n      <td>от агента</td>\n      <td>105 серия</td>\n      <td>панельный</td>\n      <td>4 этаж из 5</td>\n      <td>50 м2, жилая: 32 м2, кухня: 7.5 м2</td>\n      <td>центральное</td>\n      <td>хорошее</td>\n      <td>раздельный</td>\n      <td>магистральный</td>\n      <td>...</td>\n      <td>линолеум</td>\n      <td>домофон,                                      ...</td>\n      <td>NaN</td>\n      <td>NaN</td>\n      <td>NaN</td>\n      <td>NaN</td>\n      <td>2</td>\n      <td>Бишкек</td>\n      <td>Центральная мечеть</td>\n      <td>76200.000000</td>\n    </tr>\n  </tbody>\n</table>\n<p>3364 rows × 30 columns</p>\n</div>"
     },
     "execution_count": 245,
     "metadata": {},
     "output_type": "execute_result"
    }
   ],
   "source": [
    "result = df.groupby('адресс')['price_dollars'].mean()\n",
    "df['ср_стоим_адресс'] = df['адресс'].map(result)\n",
    "df"
   ],
   "metadata": {
    "collapsed": false,
    "ExecuteTime": {
     "end_time": "2025-01-25T09:32:38.653894800Z",
     "start_time": "2025-01-25T09:32:38.346773400Z"
    }
   },
   "id": "82de0a45888346d7",
   "execution_count": 245
  },
  {
   "cell_type": "code",
   "outputs": [
    {
     "data": {
      "text/plain": "      price_dollars                Серия                  Дом           Этаж  \\\n0           67000.0               элитка  монолитный, 2022 г.   6 этаж из 14   \n1           54000.0             сталинка            кирпичный    3 этаж из 3   \n2          122000.0               элитка            кирпичный   8 этаж из 10   \n3           92000.0               элитка  монолитный, 2024 г.   3 этаж из 12   \n4           69000.0               элитка  монолитный, 2020 г.  13 этаж из 14   \n...             ...                  ...                  ...            ...   \n3362        36000.0  индивид. планировка  монолитный, 2023 г.    2 этаж из 3   \n3363       223000.0  индивид. планировка   кирпичный, 2022 г.  15 этаж из 15   \n3364        43000.0  индивид. планировка            кирпичный    1 этаж из 2   \n3365        39000.0            108 серия  монолитный, 2023 г.   4 этаж из 16   \n3366        74500.0            105 серия            панельный    4 этаж из 5   \n\n                                 Площадь      Отопление  \\\n0                                  47 м2     автономное   \n1                                  42 м2    центральное   \n2                                 110 м2    центральное   \n3                                  68 м2        на газе   \n4                                  46 м2    центральное   \n...                                  ...            ...   \n3362                               25 м2            NaN   \n3363             122 м2, жилая: 78.72 м2            NaN   \n3364    54 м2, жилая: 29 м2, кухня: 8 м2  электрическое   \n3365                               27 м2        на газе   \n3366  50 м2, жилая: 32 м2, кухня: 7.5 м2    центральное   \n\n                  Состояние      Санузел            Газ  Входная дверь  ...  \\\n0                   хорошее  совмещенный  магистральный            NaN  ...   \n1                   хорошее  совмещенный  магистральный            NaN  ...   \n2                   хорошее   раздельный  магистральный  бронированная  ...   \n3                евроремонт          NaN            NaN            NaN  ...   \n4                евроремонт  совмещенный  магистральный  бронированная  ...   \n...                     ...          ...            ...            ...  ...   \n3362  под самоотделку (псо)          NaN            NaN            NaN  ...   \n3363                    NaN          NaN            NaN            NaN  ...   \n3364                хорошее          NaN            NaN            NaN  ...   \n3365             евроремонт          NaN            NaN            NaN  ...   \n3366                хорошее   раздельный  магистральный  бронированная  ...   \n\n       Возможность обмена Возможность рассрочки Возможность ипотеки  \\\n0                     NaN                   NaN                 NaN   \n1                     NaN                   NaN                 NaN   \n2     обмен не предлагать                   нет                 нет   \n3                     NaN                   NaN                 NaN   \n4                     NaN                   нет                 нет   \n...                   ...                   ...                 ...   \n3362                  NaN                   NaN                 NaN   \n3363                  NaN                   NaN                есть   \n3364                  NaN                   NaN                 NaN   \n3365                  NaN                   нет                 нет   \n3366                  NaN                   NaN                 NaN   \n\n     Площадь участка Комнаты   местность                     адресс  \\\n0                NaN       2      Бишкек                 Магистраль   \n1                NaN       2      Бишкек                    Политех   \n2                NaN       3      Бишкек                Джал-29 м-н   \n3                NaN       2      Бишкек                 Магистраль   \n4                NaN       1      Бишкек           Средний Джал м-н   \n...              ...     ...         ...                        ...   \n3362             NaN       1  с. Кара-Ой  ул.Рыскулова / Коенкозова   \n3363             NaN       3      Бишкек                      7 м-н   \n3364             NaN       2     с. Алга                        Nan   \n3365             NaN       1      Бишкек   Горького - Алма-Атинская   \n3366             NaN       2      Бишкек         Центральная мечеть   \n\n     ср_стоим_адресс Тип предложения_от агента Тип предложения_от собственника  \n0      126094.258982                      True                           False  \n1       81286.725000                      True                           False  \n2       90776.666667                      True                           False  \n3      126094.258982                     False                            True  \n4       94780.000000                      True                           False  \n...              ...                       ...                             ...  \n3362    36000.000000                     False                            True  \n3363   126661.551020                      True                           False  \n3364    54777.288136                      True                           False  \n3365    59111.809091                      True                           False  \n3366    76200.000000                      True                           False  \n\n[3364 rows x 31 columns]",
      "text/html": "<div>\n<style scoped>\n    .dataframe tbody tr th:only-of-type {\n        vertical-align: middle;\n    }\n\n    .dataframe tbody tr th {\n        vertical-align: top;\n    }\n\n    .dataframe thead th {\n        text-align: right;\n    }\n</style>\n<table border=\"1\" class=\"dataframe\">\n  <thead>\n    <tr style=\"text-align: right;\">\n      <th></th>\n      <th>price_dollars</th>\n      <th>Серия</th>\n      <th>Дом</th>\n      <th>Этаж</th>\n      <th>Площадь</th>\n      <th>Отопление</th>\n      <th>Состояние</th>\n      <th>Санузел</th>\n      <th>Газ</th>\n      <th>Входная дверь</th>\n      <th>...</th>\n      <th>Возможность обмена</th>\n      <th>Возможность рассрочки</th>\n      <th>Возможность ипотеки</th>\n      <th>Площадь участка</th>\n      <th>Комнаты</th>\n      <th>местность</th>\n      <th>адресс</th>\n      <th>ср_стоим_адресс</th>\n      <th>Тип предложения_от агента</th>\n      <th>Тип предложения_от собственника</th>\n    </tr>\n  </thead>\n  <tbody>\n    <tr>\n      <th>0</th>\n      <td>67000.0</td>\n      <td>элитка</td>\n      <td>монолитный, 2022 г.</td>\n      <td>6 этаж из 14</td>\n      <td>47 м2</td>\n      <td>автономное</td>\n      <td>хорошее</td>\n      <td>совмещенный</td>\n      <td>магистральный</td>\n      <td>NaN</td>\n      <td>...</td>\n      <td>NaN</td>\n      <td>NaN</td>\n      <td>NaN</td>\n      <td>NaN</td>\n      <td>2</td>\n      <td>Бишкек</td>\n      <td>Магистраль</td>\n      <td>126094.258982</td>\n      <td>True</td>\n      <td>False</td>\n    </tr>\n    <tr>\n      <th>1</th>\n      <td>54000.0</td>\n      <td>сталинка</td>\n      <td>кирпичный</td>\n      <td>3 этаж из 3</td>\n      <td>42 м2</td>\n      <td>центральное</td>\n      <td>хорошее</td>\n      <td>совмещенный</td>\n      <td>магистральный</td>\n      <td>NaN</td>\n      <td>...</td>\n      <td>NaN</td>\n      <td>NaN</td>\n      <td>NaN</td>\n      <td>NaN</td>\n      <td>2</td>\n      <td>Бишкек</td>\n      <td>Политех</td>\n      <td>81286.725000</td>\n      <td>True</td>\n      <td>False</td>\n    </tr>\n    <tr>\n      <th>2</th>\n      <td>122000.0</td>\n      <td>элитка</td>\n      <td>кирпичный</td>\n      <td>8 этаж из 10</td>\n      <td>110 м2</td>\n      <td>центральное</td>\n      <td>хорошее</td>\n      <td>раздельный</td>\n      <td>магистральный</td>\n      <td>бронированная</td>\n      <td>...</td>\n      <td>обмен не предлагать</td>\n      <td>нет</td>\n      <td>нет</td>\n      <td>NaN</td>\n      <td>3</td>\n      <td>Бишкек</td>\n      <td>Джал-29 м-н</td>\n      <td>90776.666667</td>\n      <td>True</td>\n      <td>False</td>\n    </tr>\n    <tr>\n      <th>3</th>\n      <td>92000.0</td>\n      <td>элитка</td>\n      <td>монолитный, 2024 г.</td>\n      <td>3 этаж из 12</td>\n      <td>68 м2</td>\n      <td>на газе</td>\n      <td>евроремонт</td>\n      <td>NaN</td>\n      <td>NaN</td>\n      <td>NaN</td>\n      <td>...</td>\n      <td>NaN</td>\n      <td>NaN</td>\n      <td>NaN</td>\n      <td>NaN</td>\n      <td>2</td>\n      <td>Бишкек</td>\n      <td>Магистраль</td>\n      <td>126094.258982</td>\n      <td>False</td>\n      <td>True</td>\n    </tr>\n    <tr>\n      <th>4</th>\n      <td>69000.0</td>\n      <td>элитка</td>\n      <td>монолитный, 2020 г.</td>\n      <td>13 этаж из 14</td>\n      <td>46 м2</td>\n      <td>центральное</td>\n      <td>евроремонт</td>\n      <td>совмещенный</td>\n      <td>магистральный</td>\n      <td>бронированная</td>\n      <td>...</td>\n      <td>NaN</td>\n      <td>нет</td>\n      <td>нет</td>\n      <td>NaN</td>\n      <td>1</td>\n      <td>Бишкек</td>\n      <td>Средний Джал м-н</td>\n      <td>94780.000000</td>\n      <td>True</td>\n      <td>False</td>\n    </tr>\n    <tr>\n      <th>...</th>\n      <td>...</td>\n      <td>...</td>\n      <td>...</td>\n      <td>...</td>\n      <td>...</td>\n      <td>...</td>\n      <td>...</td>\n      <td>...</td>\n      <td>...</td>\n      <td>...</td>\n      <td>...</td>\n      <td>...</td>\n      <td>...</td>\n      <td>...</td>\n      <td>...</td>\n      <td>...</td>\n      <td>...</td>\n      <td>...</td>\n      <td>...</td>\n      <td>...</td>\n      <td>...</td>\n    </tr>\n    <tr>\n      <th>3362</th>\n      <td>36000.0</td>\n      <td>индивид. планировка</td>\n      <td>монолитный, 2023 г.</td>\n      <td>2 этаж из 3</td>\n      <td>25 м2</td>\n      <td>NaN</td>\n      <td>под самоотделку (псо)</td>\n      <td>NaN</td>\n      <td>NaN</td>\n      <td>NaN</td>\n      <td>...</td>\n      <td>NaN</td>\n      <td>NaN</td>\n      <td>NaN</td>\n      <td>NaN</td>\n      <td>1</td>\n      <td>с. Кара-Ой</td>\n      <td>ул.Рыскулова / Коенкозова</td>\n      <td>36000.000000</td>\n      <td>False</td>\n      <td>True</td>\n    </tr>\n    <tr>\n      <th>3363</th>\n      <td>223000.0</td>\n      <td>индивид. планировка</td>\n      <td>кирпичный, 2022 г.</td>\n      <td>15 этаж из 15</td>\n      <td>122 м2, жилая: 78.72 м2</td>\n      <td>NaN</td>\n      <td>NaN</td>\n      <td>NaN</td>\n      <td>NaN</td>\n      <td>NaN</td>\n      <td>...</td>\n      <td>NaN</td>\n      <td>NaN</td>\n      <td>есть</td>\n      <td>NaN</td>\n      <td>3</td>\n      <td>Бишкек</td>\n      <td>7 м-н</td>\n      <td>126661.551020</td>\n      <td>True</td>\n      <td>False</td>\n    </tr>\n    <tr>\n      <th>3364</th>\n      <td>43000.0</td>\n      <td>индивид. планировка</td>\n      <td>кирпичный</td>\n      <td>1 этаж из 2</td>\n      <td>54 м2, жилая: 29 м2, кухня: 8 м2</td>\n      <td>электрическое</td>\n      <td>хорошее</td>\n      <td>NaN</td>\n      <td>NaN</td>\n      <td>NaN</td>\n      <td>...</td>\n      <td>NaN</td>\n      <td>NaN</td>\n      <td>NaN</td>\n      <td>NaN</td>\n      <td>2</td>\n      <td>с. Алга</td>\n      <td>Nan</td>\n      <td>54777.288136</td>\n      <td>True</td>\n      <td>False</td>\n    </tr>\n    <tr>\n      <th>3365</th>\n      <td>39000.0</td>\n      <td>108 серия</td>\n      <td>монолитный, 2023 г.</td>\n      <td>4 этаж из 16</td>\n      <td>27 м2</td>\n      <td>на газе</td>\n      <td>евроремонт</td>\n      <td>NaN</td>\n      <td>NaN</td>\n      <td>NaN</td>\n      <td>...</td>\n      <td>NaN</td>\n      <td>нет</td>\n      <td>нет</td>\n      <td>NaN</td>\n      <td>1</td>\n      <td>Бишкек</td>\n      <td>Горького - Алма-Атинская</td>\n      <td>59111.809091</td>\n      <td>True</td>\n      <td>False</td>\n    </tr>\n    <tr>\n      <th>3366</th>\n      <td>74500.0</td>\n      <td>105 серия</td>\n      <td>панельный</td>\n      <td>4 этаж из 5</td>\n      <td>50 м2, жилая: 32 м2, кухня: 7.5 м2</td>\n      <td>центральное</td>\n      <td>хорошее</td>\n      <td>раздельный</td>\n      <td>магистральный</td>\n      <td>бронированная</td>\n      <td>...</td>\n      <td>NaN</td>\n      <td>NaN</td>\n      <td>NaN</td>\n      <td>NaN</td>\n      <td>2</td>\n      <td>Бишкек</td>\n      <td>Центральная мечеть</td>\n      <td>76200.000000</td>\n      <td>True</td>\n      <td>False</td>\n    </tr>\n  </tbody>\n</table>\n<p>3364 rows × 31 columns</p>\n</div>"
     },
     "execution_count": 246,
     "metadata": {},
     "output_type": "execute_result"
    }
   ],
   "source": [
    "df = pd.get_dummies(df, columns=['Тип предложения'])\n",
    "df"
   ],
   "metadata": {
    "collapsed": false,
    "ExecuteTime": {
     "end_time": "2025-01-25T09:32:38.840932Z",
     "start_time": "2025-01-25T09:32:38.555501200Z"
    }
   },
   "id": "ee823f879e5cb2bd",
   "execution_count": 246
  },
  {
   "cell_type": "code",
   "outputs": [
    {
     "data": {
      "text/plain": "array(['элитка', 'сталинка', 'индивид. планировка', '106 серия',\n       '106 серия улучшенная', 'малосемейка', 'хрущевка', '105 серия',\n       '104 серия', 'пентхаус', '108 серия', '107 серия',\n       '104 серия улучшенная', '105 серия улучшенная', '102 серия'],\n      dtype=object)"
     },
     "execution_count": 247,
     "metadata": {},
     "output_type": "execute_result"
    }
   ],
   "source": [
    "df['Серия'].unique()"
   ],
   "metadata": {
    "collapsed": false,
    "ExecuteTime": {
     "end_time": "2025-01-25T09:32:39.052592600Z",
     "start_time": "2025-01-25T09:32:38.775865100Z"
    }
   },
   "id": "60d6a91592d6e8cf",
   "execution_count": 247
  },
  {
   "cell_type": "code",
   "outputs": [
    {
     "data": {
      "text/plain": "      price_dollars                Серия                  Дом           Этаж  \\\n0           67000.0               элитка  монолитный, 2022 г.   6 этаж из 14   \n1           54000.0             сталинка            кирпичный    3 этаж из 3   \n2          122000.0               элитка            кирпичный   8 этаж из 10   \n3           92000.0               элитка  монолитный, 2024 г.   3 этаж из 12   \n4           69000.0               элитка  монолитный, 2020 г.  13 этаж из 14   \n...             ...                  ...                  ...            ...   \n3362        36000.0  индивид. планировка  монолитный, 2023 г.    2 этаж из 3   \n3363       223000.0  индивид. планировка   кирпичный, 2022 г.  15 этаж из 15   \n3364        43000.0  индивид. планировка            кирпичный    1 этаж из 2   \n3365        39000.0            108 серия  монолитный, 2023 г.   4 этаж из 16   \n3366        74500.0            105 серия            панельный    4 этаж из 5   \n\n                                 Площадь      Отопление  \\\n0                                  47 м2     автономное   \n1                                  42 м2    центральное   \n2                                 110 м2    центральное   \n3                                  68 м2        на газе   \n4                                  46 м2    центральное   \n...                                  ...            ...   \n3362                               25 м2            NaN   \n3363             122 м2, жилая: 78.72 м2            NaN   \n3364    54 м2, жилая: 29 м2, кухня: 8 м2  электрическое   \n3365                               27 м2        на газе   \n3366  50 м2, жилая: 32 м2, кухня: 7.5 м2    центральное   \n\n                  Состояние      Санузел            Газ  Входная дверь  ...  \\\n0                   хорошее  совмещенный  магистральный            NaN  ...   \n1                   хорошее  совмещенный  магистральный            NaN  ...   \n2                   хорошее   раздельный  магистральный  бронированная  ...   \n3                евроремонт          NaN            NaN            NaN  ...   \n4                евроремонт  совмещенный  магистральный  бронированная  ...   \n...                     ...          ...            ...            ...  ...   \n3362  под самоотделку (псо)          NaN            NaN            NaN  ...   \n3363                    NaN          NaN            NaN            NaN  ...   \n3364                хорошее          NaN            NaN            NaN  ...   \n3365             евроремонт          NaN            NaN            NaN  ...   \n3366                хорошее   раздельный  магистральный  бронированная  ...   \n\n     Возможность рассрочки Возможность ипотеки Площадь участка Комнаты  \\\n0                      NaN                 NaN             NaN       2   \n1                      NaN                 NaN             NaN       2   \n2                      нет                 нет             NaN       3   \n3                      NaN                 NaN             NaN       2   \n4                      нет                 нет             NaN       1   \n...                    ...                 ...             ...     ...   \n3362                   NaN                 NaN             NaN       1   \n3363                   NaN                есть             NaN       3   \n3364                   NaN                 NaN             NaN       2   \n3365                   нет                 нет             NaN       1   \n3366                   NaN                 NaN             NaN       2   \n\n       местность                     адресс ср_стоим_адресс  \\\n0         Бишкек                 Магистраль   126094.258982   \n1         Бишкек                    Политех    81286.725000   \n2         Бишкек                Джал-29 м-н    90776.666667   \n3         Бишкек                 Магистраль   126094.258982   \n4         Бишкек           Средний Джал м-н    94780.000000   \n...          ...                        ...             ...   \n3362  с. Кара-Ой  ул.Рыскулова / Коенкозова    36000.000000   \n3363      Бишкек                      7 м-н   126661.551020   \n3364     с. Алга                        Nan    54777.288136   \n3365      Бишкек   Горького - Алма-Атинская    59111.809091   \n3366      Бишкек         Центральная мечеть    76200.000000   \n\n     Тип предложения_от агента Тип предложения_от собственника ср_стоим_серия  \n0                         True                           False  116193.784869  \n1                         True                           False   84959.720000  \n2                         True                           False  116193.784869  \n3                        False                            True  116193.784869  \n4                         True                           False  116193.784869  \n...                        ...                             ...            ...  \n3362                     False                            True  100190.818653  \n3363                      True                           False  100190.818653  \n3364                      True                           False  100190.818653  \n3365                      True                           False   69777.048193  \n3366                      True                           False   68975.460606  \n\n[3364 rows x 32 columns]",
      "text/html": "<div>\n<style scoped>\n    .dataframe tbody tr th:only-of-type {\n        vertical-align: middle;\n    }\n\n    .dataframe tbody tr th {\n        vertical-align: top;\n    }\n\n    .dataframe thead th {\n        text-align: right;\n    }\n</style>\n<table border=\"1\" class=\"dataframe\">\n  <thead>\n    <tr style=\"text-align: right;\">\n      <th></th>\n      <th>price_dollars</th>\n      <th>Серия</th>\n      <th>Дом</th>\n      <th>Этаж</th>\n      <th>Площадь</th>\n      <th>Отопление</th>\n      <th>Состояние</th>\n      <th>Санузел</th>\n      <th>Газ</th>\n      <th>Входная дверь</th>\n      <th>...</th>\n      <th>Возможность рассрочки</th>\n      <th>Возможность ипотеки</th>\n      <th>Площадь участка</th>\n      <th>Комнаты</th>\n      <th>местность</th>\n      <th>адресс</th>\n      <th>ср_стоим_адресс</th>\n      <th>Тип предложения_от агента</th>\n      <th>Тип предложения_от собственника</th>\n      <th>ср_стоим_серия</th>\n    </tr>\n  </thead>\n  <tbody>\n    <tr>\n      <th>0</th>\n      <td>67000.0</td>\n      <td>элитка</td>\n      <td>монолитный, 2022 г.</td>\n      <td>6 этаж из 14</td>\n      <td>47 м2</td>\n      <td>автономное</td>\n      <td>хорошее</td>\n      <td>совмещенный</td>\n      <td>магистральный</td>\n      <td>NaN</td>\n      <td>...</td>\n      <td>NaN</td>\n      <td>NaN</td>\n      <td>NaN</td>\n      <td>2</td>\n      <td>Бишкек</td>\n      <td>Магистраль</td>\n      <td>126094.258982</td>\n      <td>True</td>\n      <td>False</td>\n      <td>116193.784869</td>\n    </tr>\n    <tr>\n      <th>1</th>\n      <td>54000.0</td>\n      <td>сталинка</td>\n      <td>кирпичный</td>\n      <td>3 этаж из 3</td>\n      <td>42 м2</td>\n      <td>центральное</td>\n      <td>хорошее</td>\n      <td>совмещенный</td>\n      <td>магистральный</td>\n      <td>NaN</td>\n      <td>...</td>\n      <td>NaN</td>\n      <td>NaN</td>\n      <td>NaN</td>\n      <td>2</td>\n      <td>Бишкек</td>\n      <td>Политех</td>\n      <td>81286.725000</td>\n      <td>True</td>\n      <td>False</td>\n      <td>84959.720000</td>\n    </tr>\n    <tr>\n      <th>2</th>\n      <td>122000.0</td>\n      <td>элитка</td>\n      <td>кирпичный</td>\n      <td>8 этаж из 10</td>\n      <td>110 м2</td>\n      <td>центральное</td>\n      <td>хорошее</td>\n      <td>раздельный</td>\n      <td>магистральный</td>\n      <td>бронированная</td>\n      <td>...</td>\n      <td>нет</td>\n      <td>нет</td>\n      <td>NaN</td>\n      <td>3</td>\n      <td>Бишкек</td>\n      <td>Джал-29 м-н</td>\n      <td>90776.666667</td>\n      <td>True</td>\n      <td>False</td>\n      <td>116193.784869</td>\n    </tr>\n    <tr>\n      <th>3</th>\n      <td>92000.0</td>\n      <td>элитка</td>\n      <td>монолитный, 2024 г.</td>\n      <td>3 этаж из 12</td>\n      <td>68 м2</td>\n      <td>на газе</td>\n      <td>евроремонт</td>\n      <td>NaN</td>\n      <td>NaN</td>\n      <td>NaN</td>\n      <td>...</td>\n      <td>NaN</td>\n      <td>NaN</td>\n      <td>NaN</td>\n      <td>2</td>\n      <td>Бишкек</td>\n      <td>Магистраль</td>\n      <td>126094.258982</td>\n      <td>False</td>\n      <td>True</td>\n      <td>116193.784869</td>\n    </tr>\n    <tr>\n      <th>4</th>\n      <td>69000.0</td>\n      <td>элитка</td>\n      <td>монолитный, 2020 г.</td>\n      <td>13 этаж из 14</td>\n      <td>46 м2</td>\n      <td>центральное</td>\n      <td>евроремонт</td>\n      <td>совмещенный</td>\n      <td>магистральный</td>\n      <td>бронированная</td>\n      <td>...</td>\n      <td>нет</td>\n      <td>нет</td>\n      <td>NaN</td>\n      <td>1</td>\n      <td>Бишкек</td>\n      <td>Средний Джал м-н</td>\n      <td>94780.000000</td>\n      <td>True</td>\n      <td>False</td>\n      <td>116193.784869</td>\n    </tr>\n    <tr>\n      <th>...</th>\n      <td>...</td>\n      <td>...</td>\n      <td>...</td>\n      <td>...</td>\n      <td>...</td>\n      <td>...</td>\n      <td>...</td>\n      <td>...</td>\n      <td>...</td>\n      <td>...</td>\n      <td>...</td>\n      <td>...</td>\n      <td>...</td>\n      <td>...</td>\n      <td>...</td>\n      <td>...</td>\n      <td>...</td>\n      <td>...</td>\n      <td>...</td>\n      <td>...</td>\n      <td>...</td>\n    </tr>\n    <tr>\n      <th>3362</th>\n      <td>36000.0</td>\n      <td>индивид. планировка</td>\n      <td>монолитный, 2023 г.</td>\n      <td>2 этаж из 3</td>\n      <td>25 м2</td>\n      <td>NaN</td>\n      <td>под самоотделку (псо)</td>\n      <td>NaN</td>\n      <td>NaN</td>\n      <td>NaN</td>\n      <td>...</td>\n      <td>NaN</td>\n      <td>NaN</td>\n      <td>NaN</td>\n      <td>1</td>\n      <td>с. Кара-Ой</td>\n      <td>ул.Рыскулова / Коенкозова</td>\n      <td>36000.000000</td>\n      <td>False</td>\n      <td>True</td>\n      <td>100190.818653</td>\n    </tr>\n    <tr>\n      <th>3363</th>\n      <td>223000.0</td>\n      <td>индивид. планировка</td>\n      <td>кирпичный, 2022 г.</td>\n      <td>15 этаж из 15</td>\n      <td>122 м2, жилая: 78.72 м2</td>\n      <td>NaN</td>\n      <td>NaN</td>\n      <td>NaN</td>\n      <td>NaN</td>\n      <td>NaN</td>\n      <td>...</td>\n      <td>NaN</td>\n      <td>есть</td>\n      <td>NaN</td>\n      <td>3</td>\n      <td>Бишкек</td>\n      <td>7 м-н</td>\n      <td>126661.551020</td>\n      <td>True</td>\n      <td>False</td>\n      <td>100190.818653</td>\n    </tr>\n    <tr>\n      <th>3364</th>\n      <td>43000.0</td>\n      <td>индивид. планировка</td>\n      <td>кирпичный</td>\n      <td>1 этаж из 2</td>\n      <td>54 м2, жилая: 29 м2, кухня: 8 м2</td>\n      <td>электрическое</td>\n      <td>хорошее</td>\n      <td>NaN</td>\n      <td>NaN</td>\n      <td>NaN</td>\n      <td>...</td>\n      <td>NaN</td>\n      <td>NaN</td>\n      <td>NaN</td>\n      <td>2</td>\n      <td>с. Алга</td>\n      <td>Nan</td>\n      <td>54777.288136</td>\n      <td>True</td>\n      <td>False</td>\n      <td>100190.818653</td>\n    </tr>\n    <tr>\n      <th>3365</th>\n      <td>39000.0</td>\n      <td>108 серия</td>\n      <td>монолитный, 2023 г.</td>\n      <td>4 этаж из 16</td>\n      <td>27 м2</td>\n      <td>на газе</td>\n      <td>евроремонт</td>\n      <td>NaN</td>\n      <td>NaN</td>\n      <td>NaN</td>\n      <td>...</td>\n      <td>нет</td>\n      <td>нет</td>\n      <td>NaN</td>\n      <td>1</td>\n      <td>Бишкек</td>\n      <td>Горького - Алма-Атинская</td>\n      <td>59111.809091</td>\n      <td>True</td>\n      <td>False</td>\n      <td>69777.048193</td>\n    </tr>\n    <tr>\n      <th>3366</th>\n      <td>74500.0</td>\n      <td>105 серия</td>\n      <td>панельный</td>\n      <td>4 этаж из 5</td>\n      <td>50 м2, жилая: 32 м2, кухня: 7.5 м2</td>\n      <td>центральное</td>\n      <td>хорошее</td>\n      <td>раздельный</td>\n      <td>магистральный</td>\n      <td>бронированная</td>\n      <td>...</td>\n      <td>NaN</td>\n      <td>NaN</td>\n      <td>NaN</td>\n      <td>2</td>\n      <td>Бишкек</td>\n      <td>Центральная мечеть</td>\n      <td>76200.000000</td>\n      <td>True</td>\n      <td>False</td>\n      <td>68975.460606</td>\n    </tr>\n  </tbody>\n</table>\n<p>3364 rows × 32 columns</p>\n</div>"
     },
     "execution_count": 248,
     "metadata": {},
     "output_type": "execute_result"
    }
   ],
   "source": [
    "result = df.groupby('Серия')['price_dollars'].mean() \n",
    "df['ср_стоим_серия'] = df['Серия'].map(result)\n",
    "df"
   ],
   "metadata": {
    "collapsed": false,
    "ExecuteTime": {
     "end_time": "2025-01-25T09:32:39.290869900Z",
     "start_time": "2025-01-25T09:32:39.018486800Z"
    }
   },
   "id": "c8b21f470ce2c7ca",
   "execution_count": 248
  },
  {
   "cell_type": "code",
   "outputs": [
    {
     "data": {
      "text/plain": "      price_dollars                Серия                  Дом           Этаж  \\\n0           67000.0               элитка  монолитный, 2022 г.   6 этаж из 14   \n1           54000.0             сталинка            кирпичный    3 этаж из 3   \n2          122000.0               элитка            кирпичный   8 этаж из 10   \n3           92000.0               элитка  монолитный, 2024 г.   3 этаж из 12   \n4           69000.0               элитка  монолитный, 2020 г.  13 этаж из 14   \n...             ...                  ...                  ...            ...   \n3362        36000.0  индивид. планировка  монолитный, 2023 г.    2 этаж из 3   \n3363       223000.0  индивид. планировка   кирпичный, 2022 г.  15 этаж из 15   \n3364        43000.0  индивид. планировка            кирпичный    1 этаж из 2   \n3365        39000.0            108 серия  монолитный, 2023 г.   4 этаж из 16   \n3366        74500.0            105 серия            панельный    4 этаж из 5   \n\n                                 Площадь      Отопление  \\\n0                                  47 м2     автономное   \n1                                  42 м2    центральное   \n2                                 110 м2    центральное   \n3                                  68 м2        на газе   \n4                                  46 м2    центральное   \n...                                  ...            ...   \n3362                               25 м2            NaN   \n3363             122 м2, жилая: 78.72 м2            NaN   \n3364    54 м2, жилая: 29 м2, кухня: 8 м2  электрическое   \n3365                               27 м2        на газе   \n3366  50 м2, жилая: 32 м2, кухня: 7.5 м2    центральное   \n\n                  Состояние      Санузел            Газ  Входная дверь  ...  \\\n0                   хорошее  совмещенный  магистральный            NaN  ...   \n1                   хорошее  совмещенный  магистральный            NaN  ...   \n2                   хорошее   раздельный  магистральный  бронированная  ...   \n3                евроремонт          NaN            NaN            NaN  ...   \n4                евроремонт  совмещенный  магистральный  бронированная  ...   \n...                     ...          ...            ...            ...  ...   \n3362  под самоотделку (псо)          NaN            NaN            NaN  ...   \n3363                    NaN          NaN            NaN            NaN  ...   \n3364                хорошее          NaN            NaN            NaN  ...   \n3365             евроремонт          NaN            NaN            NaN  ...   \n3366                хорошее   раздельный  магистральный  бронированная  ...   \n\n     Возможность ипотеки Площадь участка Комнаты   местность  \\\n0                    NaN             NaN       2      Бишкек   \n1                    NaN             NaN       2      Бишкек   \n2                    нет             NaN       3      Бишкек   \n3                    NaN             NaN       2      Бишкек   \n4                    нет             NaN       1      Бишкек   \n...                  ...             ...     ...         ...   \n3362                 NaN             NaN       1  с. Кара-Ой   \n3363                есть             NaN       3      Бишкек   \n3364                 NaN             NaN       2     с. Алга   \n3365                 нет             NaN       1      Бишкек   \n3366                 NaN             NaN       2      Бишкек   \n\n                         адресс ср_стоим_адресс Тип предложения_от агента  \\\n0                    Магистраль   126094.258982                      True   \n1                       Политех    81286.725000                      True   \n2                   Джал-29 м-н    90776.666667                      True   \n3                    Магистраль   126094.258982                     False   \n4              Средний Джал м-н    94780.000000                      True   \n...                         ...             ...                       ...   \n3362  ул.Рыскулова / Коенкозова    36000.000000                     False   \n3363                      7 м-н   126661.551020                      True   \n3364                        Nan    54777.288136                      True   \n3365   Горького - Алма-Атинская    59111.809091                      True   \n3366         Центральная мечеть    76200.000000                      True   \n\n     Тип предложения_от собственника ср_стоим_серия   ср_стоим_Дом  \n0                              False  116193.784869  110778.078014  \n1                              False   84959.720000   94670.836879  \n2                              False  116193.784869   94670.836879  \n3                               True  116193.784869   82539.718367  \n4                              False  116193.784869  142775.978022  \n...                              ...            ...            ...  \n3362                            True  100190.818653   85166.862661  \n3363                           False  100190.818653  114867.309859  \n3364                           False  100190.818653   94670.836879  \n3365                           False   69777.048193   85166.862661  \n3366                           False   68975.460606   71745.484076  \n\n[3364 rows x 33 columns]",
      "text/html": "<div>\n<style scoped>\n    .dataframe tbody tr th:only-of-type {\n        vertical-align: middle;\n    }\n\n    .dataframe tbody tr th {\n        vertical-align: top;\n    }\n\n    .dataframe thead th {\n        text-align: right;\n    }\n</style>\n<table border=\"1\" class=\"dataframe\">\n  <thead>\n    <tr style=\"text-align: right;\">\n      <th></th>\n      <th>price_dollars</th>\n      <th>Серия</th>\n      <th>Дом</th>\n      <th>Этаж</th>\n      <th>Площадь</th>\n      <th>Отопление</th>\n      <th>Состояние</th>\n      <th>Санузел</th>\n      <th>Газ</th>\n      <th>Входная дверь</th>\n      <th>...</th>\n      <th>Возможность ипотеки</th>\n      <th>Площадь участка</th>\n      <th>Комнаты</th>\n      <th>местность</th>\n      <th>адресс</th>\n      <th>ср_стоим_адресс</th>\n      <th>Тип предложения_от агента</th>\n      <th>Тип предложения_от собственника</th>\n      <th>ср_стоим_серия</th>\n      <th>ср_стоим_Дом</th>\n    </tr>\n  </thead>\n  <tbody>\n    <tr>\n      <th>0</th>\n      <td>67000.0</td>\n      <td>элитка</td>\n      <td>монолитный, 2022 г.</td>\n      <td>6 этаж из 14</td>\n      <td>47 м2</td>\n      <td>автономное</td>\n      <td>хорошее</td>\n      <td>совмещенный</td>\n      <td>магистральный</td>\n      <td>NaN</td>\n      <td>...</td>\n      <td>NaN</td>\n      <td>NaN</td>\n      <td>2</td>\n      <td>Бишкек</td>\n      <td>Магистраль</td>\n      <td>126094.258982</td>\n      <td>True</td>\n      <td>False</td>\n      <td>116193.784869</td>\n      <td>110778.078014</td>\n    </tr>\n    <tr>\n      <th>1</th>\n      <td>54000.0</td>\n      <td>сталинка</td>\n      <td>кирпичный</td>\n      <td>3 этаж из 3</td>\n      <td>42 м2</td>\n      <td>центральное</td>\n      <td>хорошее</td>\n      <td>совмещенный</td>\n      <td>магистральный</td>\n      <td>NaN</td>\n      <td>...</td>\n      <td>NaN</td>\n      <td>NaN</td>\n      <td>2</td>\n      <td>Бишкек</td>\n      <td>Политех</td>\n      <td>81286.725000</td>\n      <td>True</td>\n      <td>False</td>\n      <td>84959.720000</td>\n      <td>94670.836879</td>\n    </tr>\n    <tr>\n      <th>2</th>\n      <td>122000.0</td>\n      <td>элитка</td>\n      <td>кирпичный</td>\n      <td>8 этаж из 10</td>\n      <td>110 м2</td>\n      <td>центральное</td>\n      <td>хорошее</td>\n      <td>раздельный</td>\n      <td>магистральный</td>\n      <td>бронированная</td>\n      <td>...</td>\n      <td>нет</td>\n      <td>NaN</td>\n      <td>3</td>\n      <td>Бишкек</td>\n      <td>Джал-29 м-н</td>\n      <td>90776.666667</td>\n      <td>True</td>\n      <td>False</td>\n      <td>116193.784869</td>\n      <td>94670.836879</td>\n    </tr>\n    <tr>\n      <th>3</th>\n      <td>92000.0</td>\n      <td>элитка</td>\n      <td>монолитный, 2024 г.</td>\n      <td>3 этаж из 12</td>\n      <td>68 м2</td>\n      <td>на газе</td>\n      <td>евроремонт</td>\n      <td>NaN</td>\n      <td>NaN</td>\n      <td>NaN</td>\n      <td>...</td>\n      <td>NaN</td>\n      <td>NaN</td>\n      <td>2</td>\n      <td>Бишкек</td>\n      <td>Магистраль</td>\n      <td>126094.258982</td>\n      <td>False</td>\n      <td>True</td>\n      <td>116193.784869</td>\n      <td>82539.718367</td>\n    </tr>\n    <tr>\n      <th>4</th>\n      <td>69000.0</td>\n      <td>элитка</td>\n      <td>монолитный, 2020 г.</td>\n      <td>13 этаж из 14</td>\n      <td>46 м2</td>\n      <td>центральное</td>\n      <td>евроремонт</td>\n      <td>совмещенный</td>\n      <td>магистральный</td>\n      <td>бронированная</td>\n      <td>...</td>\n      <td>нет</td>\n      <td>NaN</td>\n      <td>1</td>\n      <td>Бишкек</td>\n      <td>Средний Джал м-н</td>\n      <td>94780.000000</td>\n      <td>True</td>\n      <td>False</td>\n      <td>116193.784869</td>\n      <td>142775.978022</td>\n    </tr>\n    <tr>\n      <th>...</th>\n      <td>...</td>\n      <td>...</td>\n      <td>...</td>\n      <td>...</td>\n      <td>...</td>\n      <td>...</td>\n      <td>...</td>\n      <td>...</td>\n      <td>...</td>\n      <td>...</td>\n      <td>...</td>\n      <td>...</td>\n      <td>...</td>\n      <td>...</td>\n      <td>...</td>\n      <td>...</td>\n      <td>...</td>\n      <td>...</td>\n      <td>...</td>\n      <td>...</td>\n      <td>...</td>\n    </tr>\n    <tr>\n      <th>3362</th>\n      <td>36000.0</td>\n      <td>индивид. планировка</td>\n      <td>монолитный, 2023 г.</td>\n      <td>2 этаж из 3</td>\n      <td>25 м2</td>\n      <td>NaN</td>\n      <td>под самоотделку (псо)</td>\n      <td>NaN</td>\n      <td>NaN</td>\n      <td>NaN</td>\n      <td>...</td>\n      <td>NaN</td>\n      <td>NaN</td>\n      <td>1</td>\n      <td>с. Кара-Ой</td>\n      <td>ул.Рыскулова / Коенкозова</td>\n      <td>36000.000000</td>\n      <td>False</td>\n      <td>True</td>\n      <td>100190.818653</td>\n      <td>85166.862661</td>\n    </tr>\n    <tr>\n      <th>3363</th>\n      <td>223000.0</td>\n      <td>индивид. планировка</td>\n      <td>кирпичный, 2022 г.</td>\n      <td>15 этаж из 15</td>\n      <td>122 м2, жилая: 78.72 м2</td>\n      <td>NaN</td>\n      <td>NaN</td>\n      <td>NaN</td>\n      <td>NaN</td>\n      <td>NaN</td>\n      <td>...</td>\n      <td>есть</td>\n      <td>NaN</td>\n      <td>3</td>\n      <td>Бишкек</td>\n      <td>7 м-н</td>\n      <td>126661.551020</td>\n      <td>True</td>\n      <td>False</td>\n      <td>100190.818653</td>\n      <td>114867.309859</td>\n    </tr>\n    <tr>\n      <th>3364</th>\n      <td>43000.0</td>\n      <td>индивид. планировка</td>\n      <td>кирпичный</td>\n      <td>1 этаж из 2</td>\n      <td>54 м2, жилая: 29 м2, кухня: 8 м2</td>\n      <td>электрическое</td>\n      <td>хорошее</td>\n      <td>NaN</td>\n      <td>NaN</td>\n      <td>NaN</td>\n      <td>...</td>\n      <td>NaN</td>\n      <td>NaN</td>\n      <td>2</td>\n      <td>с. Алга</td>\n      <td>Nan</td>\n      <td>54777.288136</td>\n      <td>True</td>\n      <td>False</td>\n      <td>100190.818653</td>\n      <td>94670.836879</td>\n    </tr>\n    <tr>\n      <th>3365</th>\n      <td>39000.0</td>\n      <td>108 серия</td>\n      <td>монолитный, 2023 г.</td>\n      <td>4 этаж из 16</td>\n      <td>27 м2</td>\n      <td>на газе</td>\n      <td>евроремонт</td>\n      <td>NaN</td>\n      <td>NaN</td>\n      <td>NaN</td>\n      <td>...</td>\n      <td>нет</td>\n      <td>NaN</td>\n      <td>1</td>\n      <td>Бишкек</td>\n      <td>Горького - Алма-Атинская</td>\n      <td>59111.809091</td>\n      <td>True</td>\n      <td>False</td>\n      <td>69777.048193</td>\n      <td>85166.862661</td>\n    </tr>\n    <tr>\n      <th>3366</th>\n      <td>74500.0</td>\n      <td>105 серия</td>\n      <td>панельный</td>\n      <td>4 этаж из 5</td>\n      <td>50 м2, жилая: 32 м2, кухня: 7.5 м2</td>\n      <td>центральное</td>\n      <td>хорошее</td>\n      <td>раздельный</td>\n      <td>магистральный</td>\n      <td>бронированная</td>\n      <td>...</td>\n      <td>NaN</td>\n      <td>NaN</td>\n      <td>2</td>\n      <td>Бишкек</td>\n      <td>Центральная мечеть</td>\n      <td>76200.000000</td>\n      <td>True</td>\n      <td>False</td>\n      <td>68975.460606</td>\n      <td>71745.484076</td>\n    </tr>\n  </tbody>\n</table>\n<p>3364 rows × 33 columns</p>\n</div>"
     },
     "execution_count": 249,
     "metadata": {},
     "output_type": "execute_result"
    }
   ],
   "source": [
    "result = df.groupby('Дом')['price_dollars'].mean() \n",
    "df['ср_стоим_Дом'] = df['Дом'].map(result)\n",
    "df"
   ],
   "metadata": {
    "collapsed": false,
    "ExecuteTime": {
     "end_time": "2025-01-25T09:32:39.485795600Z",
     "start_time": "2025-01-25T09:32:39.189003700Z"
    }
   },
   "id": "40cf6b872034c90e",
   "execution_count": 249
  },
  {
   "cell_type": "code",
   "outputs": [],
   "source": [
    "def extract_floor_info(text):\n",
    "    if pd.isna(text): \n",
    "        return None\n",
    "    try:\n",
    "        floor, total_floors = map(int, text.split(' этаж из '))\n",
    "        return floor, total_floors\n",
    "    except ValueError:\n",
    "        return None  \n",
    "\n",
    "df[['Этажи', 'Всего этажей']] = df['Этаж'].apply(lambda x: pd.Series(extract_floor_info(x)))\n",
    "\n",
    "df['Этажи/Всего этажей'] = df['Этажи'] / df['Всего этажей']\n",
    "df['Этажи/Всего этажей'].fillna(df['Этажи/Всего этажей'].median(), inplace=True)\n",
    "df.drop(columns=['Этажи', 'Всего этажей'], inplace=True)\n",
    "df['Этажи/Всего этажей'].fillna(df['Этажи/Всего этажей'].median(), inplace=True)\n"
   ],
   "metadata": {
    "collapsed": false,
    "ExecuteTime": {
     "end_time": "2025-01-25T09:32:40.035557800Z",
     "start_time": "2025-01-25T09:32:39.390680800Z"
    }
   },
   "id": "9e2d08fb5094a4cf",
   "execution_count": 250
  },
  {
   "cell_type": "code",
   "outputs": [
    {
     "data": {
      "text/plain": "      price_dollars                Серия                  Дом           Этаж  \\\n0           67000.0               элитка  монолитный, 2022 г.   6 этаж из 14   \n1           54000.0             сталинка            кирпичный    3 этаж из 3   \n2          122000.0               элитка            кирпичный   8 этаж из 10   \n3           92000.0               элитка  монолитный, 2024 г.   3 этаж из 12   \n4           69000.0               элитка  монолитный, 2020 г.  13 этаж из 14   \n...             ...                  ...                  ...            ...   \n3362        36000.0  индивид. планировка  монолитный, 2023 г.    2 этаж из 3   \n3363       223000.0  индивид. планировка   кирпичный, 2022 г.  15 этаж из 15   \n3364        43000.0  индивид. планировка            кирпичный    1 этаж из 2   \n3365        39000.0            108 серия  монолитный, 2023 г.   4 этаж из 16   \n3366        74500.0            105 серия            панельный    4 этаж из 5   \n\n          Отопление              Состояние      Санузел            Газ  \\\n0        автономное                хорошее  совмещенный  магистральный   \n1       центральное                хорошее  совмещенный  магистральный   \n2       центральное                хорошее   раздельный  магистральный   \n3           на газе             евроремонт          NaN            NaN   \n4       центральное             евроремонт  совмещенный  магистральный   \n...             ...                    ...          ...            ...   \n3362            NaN  под самоотделку (псо)          NaN            NaN   \n3363            NaN                    NaN          NaN            NaN   \n3364  электрическое                хорошее          NaN            NaN   \n3365        на газе             евроремонт          NaN            NaN   \n3366    центральное                хорошее   раздельный  магистральный   \n\n      Входная дверь Парковка  ... Комнаты   местность  \\\n0               NaN      NaN  ...       2      Бишкек   \n1               NaN      NaN  ...       2      Бишкек   \n2     бронированная  паркинг  ...       3      Бишкек   \n3               NaN      NaN  ...       2      Бишкек   \n4     бронированная  паркинг  ...       1      Бишкек   \n...             ...      ...  ...     ...         ...   \n3362            NaN      NaN  ...       1  с. Кара-Ой   \n3363            NaN      NaN  ...       3      Бишкек   \n3364            NaN      NaN  ...       2     с. Алга   \n3365            NaN      NaN  ...       1      Бишкек   \n3366  бронированная      NaN  ...       2      Бишкек   \n\n                         адресс ср_стоим_адресс Тип предложения_от агента  \\\n0                    Магистраль   126094.258982                      True   \n1                       Политех    81286.725000                      True   \n2                   Джал-29 м-н    90776.666667                      True   \n3                    Магистраль   126094.258982                     False   \n4              Средний Джал м-н    94780.000000                      True   \n...                         ...             ...                       ...   \n3362  ул.Рыскулова / Коенкозова    36000.000000                     False   \n3363                      7 м-н   126661.551020                      True   \n3364                        Nan    54777.288136                      True   \n3365   Горького - Алма-Атинская    59111.809091                      True   \n3366         Центральная мечеть    76200.000000                      True   \n\n     Тип предложения_от собственника ср_стоим_серия   ср_стоим_Дом  \\\n0                              False  116193.784869  110778.078014   \n1                              False   84959.720000   94670.836879   \n2                              False  116193.784869   94670.836879   \n3                               True  116193.784869   82539.718367   \n4                              False  116193.784869  142775.978022   \n...                              ...            ...            ...   \n3362                            True  100190.818653   85166.862661   \n3363                           False  100190.818653  114867.309859   \n3364                           False  100190.818653   94670.836879   \n3365                           False   69777.048193   85166.862661   \n3366                           False   68975.460606   71745.484076   \n\n     Этажи/Всего этажей Площадь (м^2)  \n0              0.428571            47  \n1              1.000000            42  \n2              0.800000           110  \n3              0.250000            68  \n4              0.928571            46  \n...                 ...           ...  \n3362           0.666667            25  \n3363           1.000000           122  \n3364           0.500000            54  \n3365           0.250000            27  \n3366           0.800000            50  \n\n[3364 rows x 34 columns]",
      "text/html": "<div>\n<style scoped>\n    .dataframe tbody tr th:only-of-type {\n        vertical-align: middle;\n    }\n\n    .dataframe tbody tr th {\n        vertical-align: top;\n    }\n\n    .dataframe thead th {\n        text-align: right;\n    }\n</style>\n<table border=\"1\" class=\"dataframe\">\n  <thead>\n    <tr style=\"text-align: right;\">\n      <th></th>\n      <th>price_dollars</th>\n      <th>Серия</th>\n      <th>Дом</th>\n      <th>Этаж</th>\n      <th>Отопление</th>\n      <th>Состояние</th>\n      <th>Санузел</th>\n      <th>Газ</th>\n      <th>Входная дверь</th>\n      <th>Парковка</th>\n      <th>...</th>\n      <th>Комнаты</th>\n      <th>местность</th>\n      <th>адресс</th>\n      <th>ср_стоим_адресс</th>\n      <th>Тип предложения_от агента</th>\n      <th>Тип предложения_от собственника</th>\n      <th>ср_стоим_серия</th>\n      <th>ср_стоим_Дом</th>\n      <th>Этажи/Всего этажей</th>\n      <th>Площадь (м^2)</th>\n    </tr>\n  </thead>\n  <tbody>\n    <tr>\n      <th>0</th>\n      <td>67000.0</td>\n      <td>элитка</td>\n      <td>монолитный, 2022 г.</td>\n      <td>6 этаж из 14</td>\n      <td>автономное</td>\n      <td>хорошее</td>\n      <td>совмещенный</td>\n      <td>магистральный</td>\n      <td>NaN</td>\n      <td>NaN</td>\n      <td>...</td>\n      <td>2</td>\n      <td>Бишкек</td>\n      <td>Магистраль</td>\n      <td>126094.258982</td>\n      <td>True</td>\n      <td>False</td>\n      <td>116193.784869</td>\n      <td>110778.078014</td>\n      <td>0.428571</td>\n      <td>47</td>\n    </tr>\n    <tr>\n      <th>1</th>\n      <td>54000.0</td>\n      <td>сталинка</td>\n      <td>кирпичный</td>\n      <td>3 этаж из 3</td>\n      <td>центральное</td>\n      <td>хорошее</td>\n      <td>совмещенный</td>\n      <td>магистральный</td>\n      <td>NaN</td>\n      <td>NaN</td>\n      <td>...</td>\n      <td>2</td>\n      <td>Бишкек</td>\n      <td>Политех</td>\n      <td>81286.725000</td>\n      <td>True</td>\n      <td>False</td>\n      <td>84959.720000</td>\n      <td>94670.836879</td>\n      <td>1.000000</td>\n      <td>42</td>\n    </tr>\n    <tr>\n      <th>2</th>\n      <td>122000.0</td>\n      <td>элитка</td>\n      <td>кирпичный</td>\n      <td>8 этаж из 10</td>\n      <td>центральное</td>\n      <td>хорошее</td>\n      <td>раздельный</td>\n      <td>магистральный</td>\n      <td>бронированная</td>\n      <td>паркинг</td>\n      <td>...</td>\n      <td>3</td>\n      <td>Бишкек</td>\n      <td>Джал-29 м-н</td>\n      <td>90776.666667</td>\n      <td>True</td>\n      <td>False</td>\n      <td>116193.784869</td>\n      <td>94670.836879</td>\n      <td>0.800000</td>\n      <td>110</td>\n    </tr>\n    <tr>\n      <th>3</th>\n      <td>92000.0</td>\n      <td>элитка</td>\n      <td>монолитный, 2024 г.</td>\n      <td>3 этаж из 12</td>\n      <td>на газе</td>\n      <td>евроремонт</td>\n      <td>NaN</td>\n      <td>NaN</td>\n      <td>NaN</td>\n      <td>NaN</td>\n      <td>...</td>\n      <td>2</td>\n      <td>Бишкек</td>\n      <td>Магистраль</td>\n      <td>126094.258982</td>\n      <td>False</td>\n      <td>True</td>\n      <td>116193.784869</td>\n      <td>82539.718367</td>\n      <td>0.250000</td>\n      <td>68</td>\n    </tr>\n    <tr>\n      <th>4</th>\n      <td>69000.0</td>\n      <td>элитка</td>\n      <td>монолитный, 2020 г.</td>\n      <td>13 этаж из 14</td>\n      <td>центральное</td>\n      <td>евроремонт</td>\n      <td>совмещенный</td>\n      <td>магистральный</td>\n      <td>бронированная</td>\n      <td>паркинг</td>\n      <td>...</td>\n      <td>1</td>\n      <td>Бишкек</td>\n      <td>Средний Джал м-н</td>\n      <td>94780.000000</td>\n      <td>True</td>\n      <td>False</td>\n      <td>116193.784869</td>\n      <td>142775.978022</td>\n      <td>0.928571</td>\n      <td>46</td>\n    </tr>\n    <tr>\n      <th>...</th>\n      <td>...</td>\n      <td>...</td>\n      <td>...</td>\n      <td>...</td>\n      <td>...</td>\n      <td>...</td>\n      <td>...</td>\n      <td>...</td>\n      <td>...</td>\n      <td>...</td>\n      <td>...</td>\n      <td>...</td>\n      <td>...</td>\n      <td>...</td>\n      <td>...</td>\n      <td>...</td>\n      <td>...</td>\n      <td>...</td>\n      <td>...</td>\n      <td>...</td>\n      <td>...</td>\n    </tr>\n    <tr>\n      <th>3362</th>\n      <td>36000.0</td>\n      <td>индивид. планировка</td>\n      <td>монолитный, 2023 г.</td>\n      <td>2 этаж из 3</td>\n      <td>NaN</td>\n      <td>под самоотделку (псо)</td>\n      <td>NaN</td>\n      <td>NaN</td>\n      <td>NaN</td>\n      <td>NaN</td>\n      <td>...</td>\n      <td>1</td>\n      <td>с. Кара-Ой</td>\n      <td>ул.Рыскулова / Коенкозова</td>\n      <td>36000.000000</td>\n      <td>False</td>\n      <td>True</td>\n      <td>100190.818653</td>\n      <td>85166.862661</td>\n      <td>0.666667</td>\n      <td>25</td>\n    </tr>\n    <tr>\n      <th>3363</th>\n      <td>223000.0</td>\n      <td>индивид. планировка</td>\n      <td>кирпичный, 2022 г.</td>\n      <td>15 этаж из 15</td>\n      <td>NaN</td>\n      <td>NaN</td>\n      <td>NaN</td>\n      <td>NaN</td>\n      <td>NaN</td>\n      <td>NaN</td>\n      <td>...</td>\n      <td>3</td>\n      <td>Бишкек</td>\n      <td>7 м-н</td>\n      <td>126661.551020</td>\n      <td>True</td>\n      <td>False</td>\n      <td>100190.818653</td>\n      <td>114867.309859</td>\n      <td>1.000000</td>\n      <td>122</td>\n    </tr>\n    <tr>\n      <th>3364</th>\n      <td>43000.0</td>\n      <td>индивид. планировка</td>\n      <td>кирпичный</td>\n      <td>1 этаж из 2</td>\n      <td>электрическое</td>\n      <td>хорошее</td>\n      <td>NaN</td>\n      <td>NaN</td>\n      <td>NaN</td>\n      <td>NaN</td>\n      <td>...</td>\n      <td>2</td>\n      <td>с. Алга</td>\n      <td>Nan</td>\n      <td>54777.288136</td>\n      <td>True</td>\n      <td>False</td>\n      <td>100190.818653</td>\n      <td>94670.836879</td>\n      <td>0.500000</td>\n      <td>54</td>\n    </tr>\n    <tr>\n      <th>3365</th>\n      <td>39000.0</td>\n      <td>108 серия</td>\n      <td>монолитный, 2023 г.</td>\n      <td>4 этаж из 16</td>\n      <td>на газе</td>\n      <td>евроремонт</td>\n      <td>NaN</td>\n      <td>NaN</td>\n      <td>NaN</td>\n      <td>NaN</td>\n      <td>...</td>\n      <td>1</td>\n      <td>Бишкек</td>\n      <td>Горького - Алма-Атинская</td>\n      <td>59111.809091</td>\n      <td>True</td>\n      <td>False</td>\n      <td>69777.048193</td>\n      <td>85166.862661</td>\n      <td>0.250000</td>\n      <td>27</td>\n    </tr>\n    <tr>\n      <th>3366</th>\n      <td>74500.0</td>\n      <td>105 серия</td>\n      <td>панельный</td>\n      <td>4 этаж из 5</td>\n      <td>центральное</td>\n      <td>хорошее</td>\n      <td>раздельный</td>\n      <td>магистральный</td>\n      <td>бронированная</td>\n      <td>NaN</td>\n      <td>...</td>\n      <td>2</td>\n      <td>Бишкек</td>\n      <td>Центральная мечеть</td>\n      <td>76200.000000</td>\n      <td>True</td>\n      <td>False</td>\n      <td>68975.460606</td>\n      <td>71745.484076</td>\n      <td>0.800000</td>\n      <td>50</td>\n    </tr>\n  </tbody>\n</table>\n<p>3364 rows × 34 columns</p>\n</div>"
     },
     "execution_count": 251,
     "metadata": {},
     "output_type": "execute_result"
    }
   ],
   "source": [
    "df['Площадь (м^2)'] = df['Площадь'].str.extract(r'(\\d+)').astype(int)\n",
    "df.drop(columns=['Площадь', 'Этаж'])"
   ],
   "metadata": {
    "collapsed": false,
    "ExecuteTime": {
     "end_time": "2025-01-25T09:32:40.089901500Z",
     "start_time": "2025-01-25T09:32:40.016550200Z"
    }
   },
   "id": "f2a672c342920ff5",
   "execution_count": 251
  },
  {
   "cell_type": "code",
   "outputs": [
    {
     "data": {
      "text/plain": "(3364, 35)"
     },
     "execution_count": 252,
     "metadata": {},
     "output_type": "execute_result"
    }
   ],
   "source": [
    "df.shape"
   ],
   "metadata": {
    "collapsed": false,
    "ExecuteTime": {
     "end_time": "2025-01-25T09:32:40.092218600Z",
     "start_time": "2025-01-25T09:32:40.073792900Z"
    }
   },
   "id": "939bf17fe04b74c5",
   "execution_count": 252
  },
  {
   "cell_type": "code",
   "outputs": [
    {
     "name": "stdout",
     "output_type": "stream",
     "text": [
      "<class 'pandas.core.frame.DataFrame'>\n",
      "Index: 3364 entries, 0 to 3366\n",
      "Data columns (total 35 columns):\n",
      " #   Column                           Non-Null Count  Dtype  \n",
      "---  ------                           --------------  -----  \n",
      " 0   price_dollars                    3364 non-null   float64\n",
      " 1   Серия                            3364 non-null   object \n",
      " 2   Дом                              3364 non-null   object \n",
      " 3   Этаж                             3361 non-null   object \n",
      " 4   Площадь                          3364 non-null   object \n",
      " 5   Отопление                        2807 non-null   object \n",
      " 6   Состояние                        3081 non-null   object \n",
      " 7   Санузел                          1765 non-null   object \n",
      " 8   Газ                              1531 non-null   object \n",
      " 9   Входная дверь                    1568 non-null   object \n",
      " 10  Парковка                         1152 non-null   object \n",
      " 11  Высота потолков                  2157 non-null   object \n",
      " 12  Разное                           1225 non-null   object \n",
      " 13  Правоустанавливающие документы   1916 non-null   object \n",
      " 14  upped                            2871 non-null   object \n",
      " 15  Телефон                          1091 non-null   object \n",
      " 16  Интернет                         1133 non-null   object \n",
      " 17  Балкон                           1504 non-null   object \n",
      " 18  Мебель                           1511 non-null   object \n",
      " 19  Пол                              1060 non-null   object \n",
      " 20  Безопасность                     1288 non-null   object \n",
      " 21  Возможность обмена               881 non-null    object \n",
      " 22  Возможность рассрочки            700 non-null    object \n",
      " 23  Возможность ипотеки              1035 non-null   object \n",
      " 24  Площадь участка                  3 non-null      object \n",
      " 25  Комнаты                          3364 non-null   int32  \n",
      " 26  местность                        3364 non-null   object \n",
      " 27  адресс                           3364 non-null   object \n",
      " 28  ср_стоим_адресс                  3364 non-null   float64\n",
      " 29  Тип предложения_от агента        3364 non-null   bool   \n",
      " 30  Тип предложения_от собственника  3364 non-null   bool   \n",
      " 31  ср_стоим_серия                   3364 non-null   float64\n",
      " 32  ср_стоим_Дом                     3364 non-null   float64\n",
      " 33  Этажи/Всего этажей               3364 non-null   float64\n",
      " 34  Площадь (м^2)                    3364 non-null   int32  \n",
      "dtypes: bool(2), float64(5), int32(2), object(26)\n",
      "memory usage: 873.9+ KB\n"
     ]
    }
   ],
   "source": [
    "df.info()"
   ],
   "metadata": {
    "collapsed": false,
    "ExecuteTime": {
     "end_time": "2025-01-25T09:32:40.130649Z",
     "start_time": "2025-01-25T09:32:40.085418800Z"
    }
   },
   "id": "d03d4b01b958798b",
   "execution_count": 253
  },
  {
   "cell_type": "code",
   "outputs": [
    {
     "data": {
      "text/plain": "array(['автономное', 'центральное', 'на газе', nan, 'электрическое',\n       'без отопления', 'смешанное', 'на твердом топливе'], dtype=object)"
     },
     "execution_count": 254,
     "metadata": {},
     "output_type": "execute_result"
    }
   ],
   "source": [
    "df['Отопление'].unique()"
   ],
   "metadata": {
    "collapsed": false,
    "ExecuteTime": {
     "end_time": "2025-01-25T09:39:00.115265Z",
     "start_time": "2025-01-25T09:39:00.084005500Z"
    }
   },
   "id": "fddccc1217ed7c73",
   "execution_count": 254
  },
  {
   "cell_type": "code",
   "outputs": [],
   "source": [],
   "metadata": {
    "collapsed": false
   },
   "id": "d4b2d26c5f36271c"
  }
 ],
 "metadata": {
  "kernelspec": {
   "display_name": "Python 3",
   "language": "python",
   "name": "python3"
  },
  "language_info": {
   "codemirror_mode": {
    "name": "ipython",
    "version": 2
   },
   "file_extension": ".py",
   "mimetype": "text/x-python",
   "name": "python",
   "nbconvert_exporter": "python",
   "pygments_lexer": "ipython2",
   "version": "2.7.6"
  }
 },
 "nbformat": 4,
 "nbformat_minor": 5
}
